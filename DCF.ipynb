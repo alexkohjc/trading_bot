{
 "cells": [
  {
   "cell_type": "code",
   "execution_count": 1,
   "metadata": {},
   "outputs": [
    {
     "ename": "ModuleNotFoundError",
     "evalue": "No module named 'pandas_datareader'",
     "output_type": "error",
     "traceback": [
      "\u001b[1;31m---------------------------------------------------------------------------\u001b[0m",
      "\u001b[1;31mModuleNotFoundError\u001b[0m                       Traceback (most recent call last)",
      "\u001b[1;32mc:\\Users\\ALKOH00\\Projects\\References\\DCF\\trading_bot\\DCF.ipynb Cell 1'\u001b[0m in \u001b[0;36m<cell line: 6>\u001b[1;34m()\u001b[0m\n\u001b[0;32m      <a href='vscode-notebook-cell:/c%3A/Users/ALKOH00/Projects/References/DCF/trading_bot/DCF.ipynb#ch0000000?line=3'>4</a>\u001b[0m \u001b[39mfrom\u001b[39;00m \u001b[39mmatplotlib\u001b[39;00m \u001b[39mimport\u001b[39;00m style\n\u001b[0;32m      <a href='vscode-notebook-cell:/c%3A/Users/ALKOH00/Projects/References/DCF/trading_bot/DCF.ipynb#ch0000000?line=4'>5</a>\u001b[0m \u001b[39mimport\u001b[39;00m \u001b[39mpandas\u001b[39;00m \u001b[39mas\u001b[39;00m \u001b[39mpd\u001b[39;00m\n\u001b[1;32m----> <a href='vscode-notebook-cell:/c%3A/Users/ALKOH00/Projects/References/DCF/trading_bot/DCF.ipynb#ch0000000?line=5'>6</a>\u001b[0m \u001b[39mimport\u001b[39;00m \u001b[39mpandas_datareader\u001b[39;00m\u001b[39m.\u001b[39;00m\u001b[39mdata\u001b[39;00m \u001b[39mas\u001b[39;00m \u001b[39mweb\u001b[39;00m\n\u001b[0;32m      <a href='vscode-notebook-cell:/c%3A/Users/ALKOH00/Projects/References/DCF/trading_bot/DCF.ipynb#ch0000000?line=6'>7</a>\u001b[0m style\u001b[39m.\u001b[39muse(\u001b[39m'\u001b[39m\u001b[39mggplot\u001b[39m\u001b[39m'\u001b[39m)\n\u001b[0;32m      <a href='vscode-notebook-cell:/c%3A/Users/ALKOH00/Projects/References/DCF/trading_bot/DCF.ipynb#ch0000000?line=8'>9</a>\u001b[0m \u001b[39mimport\u001b[39;00m \u001b[39mrequests\u001b[39;00m\n",
      "\u001b[1;31mModuleNotFoundError\u001b[0m: No module named 'pandas_datareader'"
     ]
    }
   ],
   "source": [
    "# import statements\n",
    "import datetime as dt\n",
    "import matplotlib.pyplot as plt\n",
    "from matplotlib import style\n",
    "import pandas as pd\n",
    "import pandas_datareader.data as web\n",
    "style.use('ggplot')\n",
    "\n",
    "import requests\n",
    "\n",
    "# truncate settings\n",
    "pd.options.display.max_columns = None\n",
    "pd.options.display.max_rows = None\n",
    "pd.options.display.max_colwidth = None\n"
   ]
  },
  {
   "cell_type": "code",
   "execution_count": 30,
   "metadata": {},
   "outputs": [],
   "source": [
    "start = dt.datetime(2010,1,1)\n",
    "end = dt.datetime(2021,12,31)\n",
    "\n",
    "ticker = 'TSLA'\n",
    "API_KEY = 'UNZXVIOI4TVWK6XZ'"
   ]
  },
  {
   "cell_type": "code",
   "execution_count": 31,
   "metadata": {},
   "outputs": [],
   "source": [
    "# df = web.DataReader('TSLA', 'yahoo', start, end)\n",
    "df = web.DataReader(ticker, 'av-daily', start, end, api_key='UNZXVIOI4TVWK6XZ')\n",
    "df.to_csv('tsla.csv')"
   ]
  },
  {
   "cell_type": "code",
   "execution_count": 32,
   "metadata": {},
   "outputs": [],
   "source": [
    "df = pd.read_csv('tsla.csv', parse_dates=True, index_col=0)"
   ]
  },
  {
   "cell_type": "code",
   "execution_count": 33,
   "metadata": {},
   "outputs": [
    {
     "data": {
      "text/html": [
       "<div>\n",
       "<style scoped>\n",
       "    .dataframe tbody tr th:only-of-type {\n",
       "        vertical-align: middle;\n",
       "    }\n",
       "\n",
       "    .dataframe tbody tr th {\n",
       "        vertical-align: top;\n",
       "    }\n",
       "\n",
       "    .dataframe thead th {\n",
       "        text-align: right;\n",
       "    }\n",
       "</style>\n",
       "<table border=\"1\" class=\"dataframe\">\n",
       "  <thead>\n",
       "    <tr style=\"text-align: right;\">\n",
       "      <th></th>\n",
       "      <th>open</th>\n",
       "      <th>high</th>\n",
       "      <th>low</th>\n",
       "      <th>close</th>\n",
       "      <th>volume</th>\n",
       "    </tr>\n",
       "  </thead>\n",
       "  <tbody>\n",
       "    <tr>\n",
       "      <th>2021-12-27</th>\n",
       "      <td>1073.6700</td>\n",
       "      <td>1117.0000</td>\n",
       "      <td>1070.7152</td>\n",
       "      <td>1093.94</td>\n",
       "      <td>23715273</td>\n",
       "    </tr>\n",
       "    <tr>\n",
       "      <th>2021-12-28</th>\n",
       "      <td>1109.4900</td>\n",
       "      <td>1118.9999</td>\n",
       "      <td>1078.4200</td>\n",
       "      <td>1088.47</td>\n",
       "      <td>20107969</td>\n",
       "    </tr>\n",
       "    <tr>\n",
       "      <th>2021-12-29</th>\n",
       "      <td>1098.6400</td>\n",
       "      <td>1104.0000</td>\n",
       "      <td>1064.1400</td>\n",
       "      <td>1086.19</td>\n",
       "      <td>18718015</td>\n",
       "    </tr>\n",
       "    <tr>\n",
       "      <th>2021-12-30</th>\n",
       "      <td>1061.3300</td>\n",
       "      <td>1095.5500</td>\n",
       "      <td>1053.1500</td>\n",
       "      <td>1070.34</td>\n",
       "      <td>15680313</td>\n",
       "    </tr>\n",
       "    <tr>\n",
       "      <th>2021-12-31</th>\n",
       "      <td>1073.4444</td>\n",
       "      <td>1081.9999</td>\n",
       "      <td>1054.5900</td>\n",
       "      <td>1056.78</td>\n",
       "      <td>13466216</td>\n",
       "    </tr>\n",
       "  </tbody>\n",
       "</table>\n",
       "</div>"
      ],
      "text/plain": [
       "                 open       high        low    close    volume\n",
       "2021-12-27  1073.6700  1117.0000  1070.7152  1093.94  23715273\n",
       "2021-12-28  1109.4900  1118.9999  1078.4200  1088.47  20107969\n",
       "2021-12-29  1098.6400  1104.0000  1064.1400  1086.19  18718015\n",
       "2021-12-30  1061.3300  1095.5500  1053.1500  1070.34  15680313\n",
       "2021-12-31  1073.4444  1081.9999  1054.5900  1056.78  13466216"
      ]
     },
     "execution_count": 33,
     "metadata": {},
     "output_type": "execute_result"
    }
   ],
   "source": [
    "df.tail()"
   ]
  },
  {
   "cell_type": "code",
   "execution_count": 36,
   "metadata": {},
   "outputs": [],
   "source": [
    "# list of tickers\n",
    "\n",
    "tickers = ['AAPL', 'TLSA', 'BABA', 'FB', 'SPOT']"
   ]
  },
  {
   "cell_type": "code",
   "execution_count": 38,
   "metadata": {},
   "outputs": [],
   "source": [
    "def get_financial_statement(ticker, statement):\n",
    "\n",
    "  url = f'https://www.alphavantage.co/query?function={statement}&symbol={ticker}&apikey={API_KEY}'\n",
    "  print(url)\n",
    "\n",
    "  r = requests.get(url)\n",
    "\n",
    "  data = r.json() # this returns a dict\n",
    "  \n",
    "  pnl = pd.DataFrame(data['annualReports'])\n",
    "\n",
    "  # pnl['fiscalDateEnding'] = pd.to_datetime(pnl['fiscalDateEnding']) # convert col from string to datetime\n",
    "\n",
    "  # pnl['Year'] = pnl['fiscalDateEnding'].dt.year # retrieve just the year from date col\n",
    "  \n",
    "  return pnl"
   ]
  },
  {
   "cell_type": "code",
   "execution_count": 39,
   "metadata": {},
   "outputs": [
    {
     "ename": "AttributeError",
     "evalue": "'tuple' object has no attribute 'key'",
     "output_type": "error",
     "traceback": [
      "\u001b[1;31m---------------------------------------------------------------------------\u001b[0m",
      "\u001b[1;31mAttributeError\u001b[0m                            Traceback (most recent call last)",
      "\u001b[1;32m~\\AppData\\Local\\Temp/ipykernel_15632/3979658956.py\u001b[0m in \u001b[0;36m<module>\u001b[1;34m\u001b[0m\n\u001b[0;32m     37\u001b[0m \u001b[1;33m\u001b[0m\u001b[0m\n\u001b[0;32m     38\u001b[0m \u001b[1;32mfor\u001b[0m \u001b[0mfs\u001b[0m \u001b[1;32min\u001b[0m \u001b[0md\u001b[0m\u001b[1;33m.\u001b[0m\u001b[0mitems\u001b[0m\u001b[1;33m(\u001b[0m\u001b[1;33m)\u001b[0m\u001b[1;33m:\u001b[0m\u001b[1;33m\u001b[0m\u001b[1;33m\u001b[0m\u001b[0m\n\u001b[1;32m---> 39\u001b[1;33m   \u001b[0mprint\u001b[0m\u001b[1;33m(\u001b[0m\u001b[0mfs\u001b[0m\u001b[1;33m.\u001b[0m\u001b[0mkey\u001b[0m\u001b[1;33m)\u001b[0m\u001b[1;33m\u001b[0m\u001b[1;33m\u001b[0m\u001b[0m\n\u001b[0m\u001b[0;32m     40\u001b[0m   \u001b[0mprint\u001b[0m\u001b[1;33m(\u001b[0m\u001b[1;33m)\u001b[0m\u001b[1;33m\u001b[0m\u001b[1;33m\u001b[0m\u001b[0m\n",
      "\u001b[1;31mAttributeError\u001b[0m: 'tuple' object has no attribute 'key'"
     ]
    }
   ],
   "source": [
    "def get_financial_statements_new(ticker):\n",
    "  # new method to get all 3 financial statements\n",
    "  # \n",
    "  # \n",
    "  # TODO: to refactorize this in future\n",
    "  # we can also get EARNINGS (EPS), OVERVIEW (financial ratios), EARNINGS_CALENDAR \n",
    "  # (expected earnings in the next 3,6,12 months)\n",
    "\n",
    "  pnl = pd.DataFrame()\n",
    "  bs = pd.DataFrame()\n",
    "  cf = pd.DataFrame()\n",
    "  \n",
    "\n",
    "  d = {'INCOME_STATEMENT':pnl,\n",
    "       'BALANCE_SHEET':bs,\n",
    "       'CASH_FLOW':cf}\n",
    "\n",
    "  for fs in d.items():\n",
    "    # INCOME_STATEMENT\n",
    "    url = f'https://www.alphavantage.co/query?function=INCOME_STATEMENT&symbol={ticker}&apikey={API_KEY}'\n",
    "    r = requests.get(url)\n",
    "    data = r.json() # this returns a dict\n",
    "    df = pd.DataFrame(data['annualReports'])  # retrieving the 'annualReports' value using its key from the dict\n",
    "    df['fiscalDateEnding'] = pd.to_datetime(df['fiscalDateEnding']) # convert col from string to datetime\n",
    "    df['Year'] = df['fiscalDateEnding'].dt.year # retrieve just the year from date col\n",
    "\n",
    "    pnl = df\n",
    "\n",
    "  return None\n",
    "\n",
    "get_financial_statements_new(ticker)\n",
    "\n",
    "pnl = pd.DataFrame()\n",
    "bs = pd.DataFrame()\n",
    "cf = pd.DataFrame()\n",
    "\n",
    "d = {'INCOME_STATEMENT':pnl,\n",
    "      'BALANCE_SHEET':bs,\n",
    "      'CASH_FLOW':cf}\n",
    "\n",
    "for fs in d.items():\n",
    "  print(fs.key)\n",
    "  print()"
   ]
  },
  {
   "cell_type": "code",
   "execution_count": 75,
   "metadata": {},
   "outputs": [],
   "source": [
    "def get_financial_statements(ticker):\n",
    "    # new method to get all 3 financial statements\n",
    "    # TODO: to refactorize this in future\n",
    "\n",
    "    # d = {pnl:'INCOME_STATEMENT',\n",
    "    #      bs:'BALANCE_SHEET',\n",
    "    #      cf:'CASH_FLOW'}\n",
    "\n",
    "\n",
    "    # INCOME_STATEMENT\n",
    "    url = f'https://www.alphavantage.co/query?function=INCOME_STATEMENT&symbol={ticker}&apikey={API_KEY}'\n",
    "    r = requests.get(url)\n",
    "    data = r.json() # this returns a dict\n",
    "    df = pd.DataFrame(data['annualReports'])  # retrieving the 'annualReports' value using its key from the dict\n",
    "    df['fiscalDateEnding'] = pd.to_datetime(df['fiscalDateEnding']) # convert col from string to datetime\n",
    "    df['Year'] = df['fiscalDateEnding'].dt.year # retrieve just the year from date col\n",
    "\n",
    "    pnl = df\n",
    "\n",
    "    # BALANCE_SHEET\n",
    "    url = f'https://www.alphavantage.co/query?function=BALANCE_SHEET&symbol={ticker}&apikey={API_KEY}'\n",
    "    r = requests.get(url)\n",
    "    data = r.json() # this returns a dict\n",
    "    df = pd.DataFrame(data['annualReports'])  \n",
    "    df['fiscalDateEnding'] = pd.to_datetime(df['fiscalDateEnding']) \n",
    "    df['Year'] = df['fiscalDateEnding'].dt.year \n",
    "\n",
    "    bs = df\n",
    "\n",
    "    # CASH_FLOW\n",
    "    url = f'https://www.alphavantage.co/query?function=CASH_FLOW&symbol={ticker}&apikey={API_KEY}'\n",
    "    r = requests.get(url)\n",
    "    data = r.json() # this returns a dict\n",
    "    df = pd.DataFrame(data['annualReports'])\n",
    "    df['fiscalDateEnding'] = pd.to_datetime(df['fiscalDateEnding']) \n",
    "    df['Year'] = df['fiscalDateEnding'].dt.year \n",
    "\n",
    "    cf = df\n",
    "\n",
    "    return pnl, bs, cf"
   ]
  },
  {
   "cell_type": "code",
   "execution_count": 126,
   "metadata": {},
   "outputs": [],
   "source": [
    "pnl, bs, cf = get_financial_statements(ticker)"
   ]
  },
  {
   "cell_type": "code",
   "execution_count": 148,
   "metadata": {},
   "outputs": [],
   "source": [
    "def merge_financial_statements(pnl, bs, cf):\n",
    "\n",
    "    # TODO: maybe shouldn't merge the fin statements\n",
    "    cf = cf.drop(columns=['netIncome']) # drop net income from cf as net income is in 2 financial statements\n",
    "\n",
    "    pnl = pnl.set_index('Year')\n",
    "    bs = bs.set_index('Year')\n",
    "    cf = cf.set_index('Year')\n",
    "\n",
    "    dataframes = [pnl, bs, cf]\n",
    "\n",
    "    # merge\n",
    "    df = pd.concat(dataframes, axis=1).reset_index()\n",
    "\n",
    "    # \n",
    "    cols = ['operatingCashflow', 'capitalExpenditures', 'netIncome']\n",
    "\n",
    "    for col in cols:\n",
    "        df[col] = pd.to_numeric(df[col])\n",
    "\n",
    "    # reverse the order (rows) of the dataframe\n",
    "    df = df.iloc[::-1].reset_index(drop=True)\n",
    "\n",
    "    return df\n",
    "\n",
    "merged_fs = merge_financial_statements(pnl, bs, cf)"
   ]
  },
  {
   "cell_type": "code",
   "execution_count": 158,
   "metadata": {},
   "outputs": [
    {
     "name": "stdout",
     "output_type": "stream",
     "text": [
      "0.49003130057212224\n"
     ]
    },
    {
     "data": {
      "text/html": [
       "<div>\n",
       "<style scoped>\n",
       "    .dataframe tbody tr th:only-of-type {\n",
       "        vertical-align: middle;\n",
       "    }\n",
       "\n",
       "    .dataframe tbody tr th {\n",
       "        vertical-align: top;\n",
       "    }\n",
       "\n",
       "    .dataframe thead th {\n",
       "        text-align: right;\n",
       "    }\n",
       "</style>\n",
       "<table border=\"1\" class=\"dataframe\">\n",
       "  <thead>\n",
       "    <tr style=\"text-align: right;\">\n",
       "      <th></th>\n",
       "      <th>Year</th>\n",
       "      <th>totalRevenue</th>\n",
       "      <th>%_change</th>\n",
       "      <th>netIncome</th>\n",
       "    </tr>\n",
       "  </thead>\n",
       "  <tbody>\n",
       "    <tr>\n",
       "      <th>0</th>\n",
       "      <td>2017</td>\n",
       "      <td>11759000000</td>\n",
       "      <td>NaN</td>\n",
       "      <td>-1962000000</td>\n",
       "    </tr>\n",
       "    <tr>\n",
       "      <th>1</th>\n",
       "      <td>2018</td>\n",
       "      <td>21461000000</td>\n",
       "      <td>0.825070</td>\n",
       "      <td>-976000000</td>\n",
       "    </tr>\n",
       "    <tr>\n",
       "      <th>2</th>\n",
       "      <td>2019</td>\n",
       "      <td>24578000000</td>\n",
       "      <td>0.145240</td>\n",
       "      <td>-862000000</td>\n",
       "    </tr>\n",
       "    <tr>\n",
       "      <th>3</th>\n",
       "      <td>2020</td>\n",
       "      <td>31536000000</td>\n",
       "      <td>0.283099</td>\n",
       "      <td>721000000</td>\n",
       "    </tr>\n",
       "    <tr>\n",
       "      <th>4</th>\n",
       "      <td>2021</td>\n",
       "      <td>53823000000</td>\n",
       "      <td>0.706716</td>\n",
       "      <td>5519000000</td>\n",
       "    </tr>\n",
       "  </tbody>\n",
       "</table>\n",
       "</div>"
      ],
      "text/plain": [
       "   Year  totalRevenue  %_change   netIncome\n",
       "0  2017   11759000000       NaN -1962000000\n",
       "1  2018   21461000000  0.825070  -976000000\n",
       "2  2019   24578000000  0.145240  -862000000\n",
       "3  2020   31536000000  0.283099   721000000\n",
       "4  2021   53823000000  0.706716  5519000000"
      ]
     },
     "execution_count": 158,
     "metadata": {},
     "output_type": "execute_result"
    }
   ],
   "source": [
    "def project_future_revenues(df):\n",
    "    '''\n",
    "    Y1 & Y2 revenues are 'estimated' based on analysts report\n",
    "    Y3 & Y4 revenues are 'projected' based on taking the min/avg revenue growth rate applied on current revenue\n",
    "    '''\n",
    "\n",
    "    ### Y1 and Y2 estimated revenues ###\n",
    "    # Y1 and Y2 estimated revenue based on taking avg of analyst reports\n",
    "    # TODO: double check if it's plus or minus\n",
    "    df['freeCashFlowToEquity'] = df['operatingCashflow'] - df['capitalExpenditures']\n",
    "    df['freeCashFlowRate'] = df['freeCashFlowToEquity'] / df['netIncome']\n",
    "\n",
    "    # we'll use the avg FCF rather than the lowest\n",
    "    fcf_rate = df['freeCashFlowRate'].mean()\n",
    "    # fcf_rate = df['freeCashFlowRate'].min()\n",
    "\n",
    "    # get_analyst_reports()\n",
    "\n",
    "\n",
    "    ### Y3 and Y4 projected revenues ###\n",
    "    df['totalRevenue'] = df['totalRevenue'].astype('int64')\n",
    "    df['%_change'] = df['totalRevenue'].pct_change()\n",
    "    \n",
    "    revenue_growth_rate = df['%_change'].mean()\n",
    "    print(revenue_growth_rate)\n",
    "\n",
    "    return df\n",
    "\n",
    "project_future_revenues(merged_fs)[['Year', 'totalRevenue', '%_change', 'netIncome']]\n",
    "\n"
   ]
  },
  {
   "cell_type": "code",
   "execution_count": 161,
   "metadata": {},
   "outputs": [
    {
     "name": "stdout",
     "output_type": "stream",
     "text": [
      "-0.02439964308571992\n"
     ]
    },
    {
     "data": {
      "text/html": [
       "<div>\n",
       "<style scoped>\n",
       "    .dataframe tbody tr th:only-of-type {\n",
       "        vertical-align: middle;\n",
       "    }\n",
       "\n",
       "    .dataframe tbody tr th {\n",
       "        vertical-align: top;\n",
       "    }\n",
       "\n",
       "    .dataframe thead th {\n",
       "        text-align: right;\n",
       "    }\n",
       "</style>\n",
       "<table border=\"1\" class=\"dataframe\">\n",
       "  <thead>\n",
       "    <tr style=\"text-align: right;\">\n",
       "      <th></th>\n",
       "      <th>Year</th>\n",
       "      <th>netIncomeMargin</th>\n",
       "    </tr>\n",
       "  </thead>\n",
       "  <tbody>\n",
       "    <tr>\n",
       "      <th>0</th>\n",
       "      <td>2017</td>\n",
       "      <td>-0.166851</td>\n",
       "    </tr>\n",
       "    <tr>\n",
       "      <th>1</th>\n",
       "      <td>2018</td>\n",
       "      <td>-0.045478</td>\n",
       "    </tr>\n",
       "    <tr>\n",
       "      <th>2</th>\n",
       "      <td>2019</td>\n",
       "      <td>-0.035072</td>\n",
       "    </tr>\n",
       "    <tr>\n",
       "      <th>3</th>\n",
       "      <td>2020</td>\n",
       "      <td>0.022863</td>\n",
       "    </tr>\n",
       "    <tr>\n",
       "      <th>4</th>\n",
       "      <td>2021</td>\n",
       "      <td>0.102540</td>\n",
       "    </tr>\n",
       "  </tbody>\n",
       "</table>\n",
       "</div>"
      ],
      "text/plain": [
       "   Year  netIncomeMargin\n",
       "0  2017        -0.166851\n",
       "1  2018        -0.045478\n",
       "2  2019        -0.035072\n",
       "3  2020         0.022863\n",
       "4  2021         0.102540"
      ]
     },
     "execution_count": 161,
     "metadata": {},
     "output_type": "execute_result"
    }
   ],
   "source": [
    "def project_future_income(df):\n",
    "\n",
    "    df['netIncomeMargin'] = df['netIncome'] / df['totalRevenue']\n",
    "\n",
    "    income_growth_rate = df['netIncomeMargin'].mean()\n",
    "    print(income_growth_rate)\n",
    "\n",
    "    return df\n",
    "\n",
    "project_future_income(merged_fs)[['Year', 'netIncomeMargin']]"
   ]
  },
  {
   "cell_type": "code",
   "execution_count": null,
   "metadata": {},
   "outputs": [],
   "source": []
  },
  {
   "cell_type": "code",
   "execution_count": null,
   "metadata": {},
   "outputs": [],
   "source": []
  },
  {
   "cell_type": "code",
   "execution_count": null,
   "metadata": {},
   "outputs": [],
   "source": [
    "def save_sp500_tickers():\n",
    "\n",
    "    # desc: this returns a ... list? of all 500 ticker symbols for S&P500 companies\n",
    "\n",
    "    df_companies = pd.read_html('https://en.wikipedia.org/wiki/List_of_S%26P_500_companies')\n",
    "    tickers = df_companies[0]['Symbol']\n",
    "\n",
    "    with open('sp500tickers.pickle', 'wb') as f:\n",
    "    pickle.dump(tickers, f)\n",
    "\n",
    "    return tickers\n",
    "\n",
    "save_sp500_tickers()"
   ]
  },
  {
   "cell_type": "code",
   "execution_count": null,
   "metadata": {},
   "outputs": [],
   "source": [
    "def get_data_from_yahoo(reload_sp500=False):\n",
    "  \n",
    "    if reload_sp500:\n",
    "        tickers = save_sp500_tickers()\n",
    "    else:\n",
    "        with open('sp500tickers.pickle', 'rb') as f:\n",
    "            tickers = pickle.load(f)\n",
    "\n",
    "    return None"
   ]
  },
  {
   "cell_type": "code",
   "execution_count": null,
   "metadata": {},
   "outputs": [],
   "source": []
  },
  {
   "cell_type": "code",
   "execution_count": null,
   "metadata": {},
   "outputs": [],
   "source": []
  },
  {
   "cell_type": "code",
   "execution_count": null,
   "metadata": {},
   "outputs": [],
   "source": []
  },
  {
   "cell_type": "code",
   "execution_count": null,
   "metadata": {},
   "outputs": [],
   "source": []
  },
  {
   "cell_type": "code",
   "execution_count": null,
   "metadata": {},
   "outputs": [],
   "source": []
  }
 ],
 "metadata": {
  "interpreter": {
   "hash": "b47969de574ba02b1a9485fee0718e759655a11ad7d6d4b61a398520818a34cd"
  },
  "kernelspec": {
   "display_name": "Python 3.10.4 ('dcf')",
   "language": "python",
   "name": "python3"
  },
  "language_info": {
   "codemirror_mode": {
    "name": "ipython",
    "version": 3
   },
   "file_extension": ".py",
   "mimetype": "text/x-python",
   "name": "python",
   "nbconvert_exporter": "python",
   "pygments_lexer": "ipython3",
   "version": "3.10.4"
  },
  "orig_nbformat": 4
 },
 "nbformat": 4,
 "nbformat_minor": 2
}
