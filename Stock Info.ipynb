{
 "cells": [
  {
   "cell_type": "code",
   "execution_count": 7,
   "metadata": {},
   "outputs": [],
   "source": [
    "import numpy as np\n",
    "import pandas as pd\n",
    "from datetime import datetime\n",
    "import time\n",
    "\n",
    "# scraping\n",
    "import requests\n",
    "from lxml import html\n",
    "#from bs4 import BeautifulSoup\n",
    "\n",
    "# visualization\n",
    "import matplotlib.pyplot as plt\n",
    "\n",
    "#supress format\n",
    "#pd.options.display.float_format = '{:,.3f}'.format"
   ]
  },
  {
   "cell_type": "code",
   "execution_count": 8,
   "metadata": {},
   "outputs": [],
   "source": [
    "# symbols\n",
    "#symbols = ['AAPL', 'AMZN']#, 'NFLX', 'BABA', 'MSFT']\n",
    "symbols = ['BAC']\n",
    "\n",
    "yf_url = 'https://sg.finance.yahoo.com/quote/{}/{}?p={}'"
   ]
  },
  {
   "cell_type": "code",
   "execution_count": 17,
   "metadata": {},
   "outputs": [],
   "source": [
    "def get_page(url):\n",
    "    # headers to simulate browser\n",
    "    headers = {\n",
    "        'Accept': 'text/html,application/xhtml+xml,application/xml;q=0.9,image/webp,image/apng,*/*;q=0.8,application/signed-exchange;v=b3',\n",
    "        'Accept-Encoding': 'gzip, deflate, br',\n",
    "        'Accept-Language': 'en-US,en;q=0.9',\n",
    "        'Cache-Control': 'max-age=0',\n",
    "        'Pragma': 'no-cache',\n",
    "        'Referrer': 'https://google.com',\n",
    "        'User-Agent': 'Mozilla/5.0 (Windows NT 10.0; Win64; x64) AppleWebKit/537.36 (KHTML, like Gecko) Chrome/77.0.3865.120 Safari/537.36'\n",
    "    }\n",
    "    return requests.get(url, headers=headers)\n",
    "\n",
    "def parse_rows(table_rows):  \n",
    "    parsed_rows = []\n",
    "\n",
    "    for table_row in table_rows:\n",
    "        parsed_row = []\n",
    "        el = table_row.xpath(\"./div\")\n",
    "\n",
    "        none_count = 0\n",
    "\n",
    "        for rs in el:\n",
    "            try:\n",
    "                (text,) = rs.xpath('.//span/text()[1]')\n",
    "                parsed_row.append(text)\n",
    "            except ValueError:\n",
    "                parsed_row.append(np.NaN)\n",
    "                none_count += 1\n",
    "\n",
    "        if (none_count < 4):\n",
    "            parsed_rows.append(parsed_row)\n",
    "\n",
    "    return pd.DataFrame(parsed_rows)\n",
    "\n",
    "def clean_data(df):\n",
    "    \n",
    "    new_header = df.iloc[0] \n",
    "    df = df[1:] \n",
    "    df.columns = new_header\n",
    "    \n",
    "    return df\n",
    "\n",
    "def scrape_table(url):  \n",
    "    page = get_page(url)\n",
    "    tree = html.fromstring(page.content)\n",
    "\n",
    "    # Fetch all div elements which have class 'D(tbr)'\n",
    "    table_rows = tree.xpath(\"//div[contains(@class, 'D(tbr)')]\")\n",
    "    \n",
    "    assert len(table_rows) > 0\n",
    "    \n",
    "    df = parse_rows(table_rows)\n",
    "    df = clean_data(df)\n",
    "    \n",
    "    return df\n",
    "\n",
    "def scrape_html_tables(url):\n",
    "    page = get_page(url)\n",
    "    stats_list = pd.read_html(page.content)\n",
    "    \n",
    "    return stats_list\n",
    "\n",
    "## Retrieving Functions ##\n",
    "\n",
    "def get_and_clean_table(df):\n",
    "    \n",
    "    df = df.set_index('Breakdown')\n",
    "    df.replace(',', '', regex=True, inplace=True)\n",
    "    df = df.apply(pd.to_numeric, errors='coerce')\n",
    "    df.drop('ttm', axis=1, inplace=True)\n",
    "    \n",
    "    # reverses order of columns\n",
    "    df = df.iloc[:, ::-1]\n",
    "    \n",
    "    return df\n",
    "\n",
    "def get_pnl(symbol):\n",
    "    \n",
    "    df = scrape_table(yf_url.format(symbol, 'financials', symbol))\n",
    "    df = get_and_clean_table(df)\n",
    "    \n",
    "    return df\n",
    "\n",
    "def get_balance_sheet(symbol):\n",
    "    \n",
    "    df = scrape_table(yf_url.format(symbol, 'balance-sheet', symbol))\n",
    "    df = get_and_clean_table(df)\n",
    "    \n",
    "    return df\n",
    "\n",
    "def get_cash_flow(symbol):\n",
    "    \n",
    "    df = scrape_table(yf_url.format(symbol, 'cash-flow', symbol))\n",
    "    df = get_and_clean_table(df)\n",
    "    \n",
    "    return df\n",
    "\n",
    "def get_key_stats(symbols):\n",
    "    \n",
    "    key_stats_df = pd.DataFrame()\n",
    "\n",
    "    for symbol in symbols:\n",
    "        key_stats = pd.DataFrame()\n",
    "\n",
    "        tables = scrape_html_tables(yf_url.format(symbol, 'key-statistics', symbol))\n",
    "\n",
    "        for table in tables:\n",
    "            key_stats = key_stats.append(table, ignore_index=True)\n",
    "\n",
    "        key_stats.rename(columns={0: 'Stat', 1: symbol}, inplace=True)\n",
    "        key_stats.set_index('Stat', inplace=True)\n",
    "        \n",
    "        key_stats_df = pd.concat([key_stats_df, key_stats], axis=1)\n",
    "    \n",
    "    return key_stats_df\n",
    "\n",
    "def get_analysis_reports(symbol):\n",
    "    \n",
    "    analysis_reports = scrape_html_tables(yf_url.format(symbol, 'analysis', symbol))\n",
    "    \n",
    "    earnings_estimate = analysis_reports[0]\n",
    "    revenue_estimate = analysis_reports[1]\n",
    "    earnings_history = analysis_reports[2]\n",
    "    eps_trend = analysis_reports[3]\n",
    "    eps_revisions = analysis_reports[4]\n",
    "    growth_estimates = analysis_reports[5]\n",
    "    \n",
    "    #for report in analysis_reports:\n",
    "        #display(report)\n",
    "    \n",
    "    return analysis_reports\n",
    "    #return earnings_estimate, revenue_estimate, earnings_history, eps_trend, eps_revisions, growth_estimates\n",
    "\n",
    "def get_fcf(symbol):\n",
    "    \n",
    "    df = get_cash_flow(symbol).loc[['Net income', 'Operating cash flow', 'Capital expenditure']]\n",
    "    df.loc['FCF to Equity (simple)'] = df.loc['Operating cash flow'] + df.loc['Capital expenditure']\n",
    "    df.loc['FCFE/Net Income (%)'] = df.loc['FCF to Equity (simple)'] / df.loc['Net income'] * 100\n",
    "    \n",
    "    return df\n",
    "    \n",
    "def get_eps(symbols):\n",
    "    \n",
    "    key_stats_df = get_key_stats(symbols)\n",
    "    eps = key_stats_df.loc[['Diluted EPS (ttm)']]\n",
    "    \n",
    "    return eps\n",
    "    \n",
    "def get_growth_rate(symbol):\n",
    "    \n",
    "    analysis_reports = get_analysis_reports(symbol)\n",
    "    growth_estimates = analysis_reports[5].set_index('Growth estimates')\n",
    "    \n",
    "    growth_rate = float(growth_estimates.loc['Next 5 years (per annum)'][0].strip('%'))\n",
    "    \n",
    "    return growth_rate\n",
    "\n",
    "def get_market_cap(symbols):\n",
    "    \n",
    "    key_stats_df = get_key_stats(symbols)\n",
    "    market_cap = key_stats_df.loc[['Market cap (intra-day) 5']]\n",
    "    \n",
    "    #change to  numbers\n",
    "    \n",
    "    return market_cap\n",
    "\n",
    "def get_estimated_revenue(symbol):\n",
    "    \n",
    "    analysis_reports = get_analysis_reports(symbol)\n",
    "    estimated_revenue = analysis_reports[1].set_index('Revenue estimate').loc[['Avg. Estimate']]\n",
    "    estimated_revenue.drop(estimated_revenue.columns[:2], axis=1, inplace=True)\n",
    "    estimated_revenue.replace('B', '', regex=True, inplace=True)\n",
    "    #estimated_revenue.replace('M', '', regex=True, inplace=True)\n",
    "    \n",
    "    #\n",
    "    estimated_revenue = estimated_revenue.apply(pd.to_numeric, errors='coerce') * 1000000\n",
    "    \n",
    "    return estimated_revenue\n",
    "\n",
    "def get_revenue(symbol):\n",
    "    \n",
    "    total_revenue = get_pnl(symbol).loc[['Total revenue']].reset_index(drop=True)\n",
    "    estimated_revenue = get_estimated_revenue(symbol).reset_index(drop=True)\n",
    "    \n",
    "    df = pd.concat([total_revenue, estimated_revenue], axis=1)\n",
    "    df.rename(index={0: 'Total Revenue'}, inplace=True)\n",
    "    \n",
    "    return df\n",
    "\n",
    "def get_projected_revenue(symbol):\n",
    "    \n",
    "    revenue = get_revenue(symbol)\n",
    "    revenue_growth_rate = revenue.T.pct_change() * 100\n",
    "    revenue_growth_rate.rename(columns={'Total Revenue': 'Revenue Growth Rate'}, inplace=True)\n",
    "    avg_revenue_growth_rate = revenue_growth_rate.mean()[0]\n",
    "    \n",
    "    #projecting next 2 years rev based on avg growth of past years\n",
    "    revenue['2022E'] = revenue.iloc[:, -1] * (1 + avg_revenue_growth_rate/100)\n",
    "    revenue['2023E'] = revenue.iloc[:, -1] * (1 + avg_revenue_growth_rate/100)\n",
    "    \n",
    "    return revenue\n",
    "\n",
    "def get_net_income(symbol):\n",
    "    \n",
    "    past_revenue = get_pnl(symbol).loc[['Total revenue']]\n",
    "    net_income = get_cash_flow(symbol).loc[['Net income']]\n",
    "    df = pd.concat([past_revenue, net_income])\n",
    "    df.loc['Net income margin'] = df.loc['Net income'] / df.loc['Total revenue'] * 100\n",
    "\n",
    "    return df"
   ]
  },
  {
   "cell_type": "markdown",
   "metadata": {},
   "source": [
    "# Discounted Cash Flow (DCF)"
   ]
  },
  {
   "cell_type": "markdown",
   "metadata": {},
   "source": [
    "# Free Cash Flow"
   ]
  },
  {
   "cell_type": "code",
   "execution_count": 18,
   "metadata": {},
   "outputs": [
    {
     "data": {
      "text/html": [
       "<div>\n",
       "<style scoped>\n",
       "    .dataframe tbody tr th:only-of-type {\n",
       "        vertical-align: middle;\n",
       "    }\n",
       "\n",
       "    .dataframe tbody tr th {\n",
       "        vertical-align: top;\n",
       "    }\n",
       "\n",
       "    .dataframe thead th {\n",
       "        text-align: right;\n",
       "    }\n",
       "</style>\n",
       "<table border=\"1\" class=\"dataframe\">\n",
       "  <thead>\n",
       "    <tr style=\"text-align: right;\">\n",
       "      <th></th>\n",
       "      <th>31/12/2016</th>\n",
       "      <th>31/12/2017</th>\n",
       "      <th>31/12/2018</th>\n",
       "      <th>31/12/2019</th>\n",
       "    </tr>\n",
       "    <tr>\n",
       "      <th>Breakdown</th>\n",
       "      <th></th>\n",
       "      <th></th>\n",
       "      <th></th>\n",
       "      <th></th>\n",
       "    </tr>\n",
       "  </thead>\n",
       "  <tbody>\n",
       "    <tr>\n",
       "      <th>Net income</th>\n",
       "      <td>1401.000000</td>\n",
       "      <td>1791.00000</td>\n",
       "      <td>2588.000000</td>\n",
       "      <td>7454.000000</td>\n",
       "    </tr>\n",
       "    <tr>\n",
       "      <th>Operating cash flow</th>\n",
       "      <td>1267.000000</td>\n",
       "      <td>7152.00000</td>\n",
       "      <td>15996.000000</td>\n",
       "      <td>16713.000000</td>\n",
       "    </tr>\n",
       "    <tr>\n",
       "      <th>Capital expenditure</th>\n",
       "      <td>-887.009000</td>\n",
       "      <td>-1519.00000</td>\n",
       "      <td>-1595.000000</td>\n",
       "      <td>-3237.000000</td>\n",
       "    </tr>\n",
       "    <tr>\n",
       "      <th>FCF to Equity (simple)</th>\n",
       "      <td>379.991000</td>\n",
       "      <td>5633.00000</td>\n",
       "      <td>14401.000000</td>\n",
       "      <td>13476.000000</td>\n",
       "    </tr>\n",
       "    <tr>\n",
       "      <th>FCFE/Net Income (%)</th>\n",
       "      <td>27.122841</td>\n",
       "      <td>314.51703</td>\n",
       "      <td>556.452859</td>\n",
       "      <td>180.788838</td>\n",
       "    </tr>\n",
       "  </tbody>\n",
       "</table>\n",
       "</div>"
      ],
      "text/plain": [
       "0                        31/12/2016  31/12/2017    31/12/2018    31/12/2019\n",
       "Breakdown                                                                  \n",
       "Net income              1401.000000  1791.00000   2588.000000   7454.000000\n",
       "Operating cash flow     1267.000000  7152.00000  15996.000000  16713.000000\n",
       "Capital expenditure     -887.009000 -1519.00000  -1595.000000  -3237.000000\n",
       "FCF to Equity (simple)   379.991000  5633.00000  14401.000000  13476.000000\n",
       "FCFE/Net Income (%)       27.122841   314.51703    556.452859    180.788838"
      ]
     },
     "execution_count": 18,
     "metadata": {},
     "output_type": "execute_result"
    }
   ],
   "source": [
    "fcf = get_fcf('PAYS')\n",
    "fcf"
   ]
  },
  {
   "cell_type": "markdown",
   "metadata": {},
   "source": [
    "## video adds net borrowings, which needs to be scraped from seekingalpha.com"
   ]
  },
  {
   "cell_type": "code",
   "execution_count": 19,
   "metadata": {},
   "outputs": [
    {
     "data": {
      "text/plain": [
       "27.12284082798002"
      ]
     },
     "execution_count": 19,
     "metadata": {},
     "output_type": "execute_result"
    }
   ],
   "source": [
    "min_fcfe_ni_percent = min(fcf.loc['FCFE/Net Income (%)'])\n",
    "min_fcfe_ni_percent"
   ]
  },
  {
   "cell_type": "markdown",
   "metadata": {},
   "source": [
    "# Projecting Revenue based on Avg. Rev. Growth Rate"
   ]
  },
  {
   "cell_type": "code",
   "execution_count": 20,
   "metadata": {},
   "outputs": [
    {
     "data": {
      "text/html": [
       "<div>\n",
       "<style scoped>\n",
       "    .dataframe tbody tr th:only-of-type {\n",
       "        vertical-align: middle;\n",
       "    }\n",
       "\n",
       "    .dataframe tbody tr th {\n",
       "        vertical-align: top;\n",
       "    }\n",
       "\n",
       "    .dataframe thead th {\n",
       "        text-align: right;\n",
       "    }\n",
       "</style>\n",
       "<table border=\"1\" class=\"dataframe\">\n",
       "  <thead>\n",
       "    <tr style=\"text-align: right;\">\n",
       "      <th></th>\n",
       "      <th>31/12/2016</th>\n",
       "      <th>31/12/2017</th>\n",
       "      <th>31/12/2018</th>\n",
       "      <th>31/12/2019</th>\n",
       "      <th>Current year (2020)</th>\n",
       "      <th>Next year (2021)</th>\n",
       "      <th>2022E</th>\n",
       "      <th>2023E</th>\n",
       "    </tr>\n",
       "  </thead>\n",
       "  <tbody>\n",
       "    <tr>\n",
       "      <th>Total Revenue</th>\n",
       "      <td>10417.0</td>\n",
       "      <td>15234.0</td>\n",
       "      <td>23424.0</td>\n",
       "      <td>34667.0</td>\n",
       "      <td>45770.0</td>\n",
       "      <td>64490.0</td>\n",
       "      <td>92985.364801</td>\n",
       "      <td>134071.609043</td>\n",
       "    </tr>\n",
       "  </tbody>\n",
       "</table>\n",
       "</div>"
      ],
      "text/plain": [
       "               31/12/2016  31/12/2017  31/12/2018  31/12/2019  \\\n",
       "Total Revenue     10417.0     15234.0     23424.0     34667.0   \n",
       "\n",
       "               Current year (2020)  Next year (2021)         2022E  \\\n",
       "Total Revenue              45770.0           64490.0  92985.364801   \n",
       "\n",
       "                       2023E  \n",
       "Total Revenue  134071.609043  "
      ]
     },
     "execution_count": 20,
     "metadata": {},
     "output_type": "execute_result"
    }
   ],
   "source": [
    "projected_revenue = get_projected_revenue('PAYS')\n",
    "projected_revenue"
   ]
  },
  {
   "cell_type": "markdown",
   "metadata": {},
   "source": [
    "# Calculating Net Income Margin"
   ]
  },
  {
   "cell_type": "code",
   "execution_count": 23,
   "metadata": {},
   "outputs": [
    {
     "data": {
      "text/html": [
       "<div>\n",
       "<style scoped>\n",
       "    .dataframe tbody tr th:only-of-type {\n",
       "        vertical-align: middle;\n",
       "    }\n",
       "\n",
       "    .dataframe tbody tr th {\n",
       "        vertical-align: top;\n",
       "    }\n",
       "\n",
       "    .dataframe thead th {\n",
       "        text-align: right;\n",
       "    }\n",
       "</style>\n",
       "<table border=\"1\" class=\"dataframe\">\n",
       "  <thead>\n",
       "    <tr style=\"text-align: right;\">\n",
       "      <th></th>\n",
       "      <th>31/12/2016</th>\n",
       "      <th>31/12/2017</th>\n",
       "      <th>31/12/2018</th>\n",
       "      <th>31/12/2019</th>\n",
       "    </tr>\n",
       "    <tr>\n",
       "      <th>Breakdown</th>\n",
       "      <th></th>\n",
       "      <th></th>\n",
       "      <th></th>\n",
       "      <th></th>\n",
       "    </tr>\n",
       "  </thead>\n",
       "  <tbody>\n",
       "    <tr>\n",
       "      <th>Total revenue</th>\n",
       "      <td>10417.00000</td>\n",
       "      <td>15234.000000</td>\n",
       "      <td>23424.000000</td>\n",
       "      <td>34667.000000</td>\n",
       "    </tr>\n",
       "    <tr>\n",
       "      <th>Net income</th>\n",
       "      <td>1401.00000</td>\n",
       "      <td>1791.000000</td>\n",
       "      <td>2588.000000</td>\n",
       "      <td>7454.000000</td>\n",
       "    </tr>\n",
       "    <tr>\n",
       "      <th>Net income margin</th>\n",
       "      <td>13.44917</td>\n",
       "      <td>11.756597</td>\n",
       "      <td>11.048497</td>\n",
       "      <td>21.501716</td>\n",
       "    </tr>\n",
       "  </tbody>\n",
       "</table>\n",
       "</div>"
      ],
      "text/plain": [
       "0                   31/12/2016    31/12/2017    31/12/2018    31/12/2019\n",
       "Breakdown                                                               \n",
       "Total revenue      10417.00000  15234.000000  23424.000000  34667.000000\n",
       "Net income          1401.00000   1791.000000   2588.000000   7454.000000\n",
       "Net income margin     13.44917     11.756597     11.048497     21.501716"
      ]
     },
     "execution_count": 23,
     "metadata": {},
     "output_type": "execute_result"
    }
   ],
   "source": [
    "net_income = get_net_income('PAYS')\n",
    "net_income"
   ]
  },
  {
   "cell_type": "code",
   "execution_count": 25,
   "metadata": {},
   "outputs": [
    {
     "data": {
      "text/plain": [
       "14.438995077362227"
      ]
     },
     "execution_count": 25,
     "metadata": {},
     "output_type": "execute_result"
    }
   ],
   "source": [
    "net_income_margin = net_income.loc['Net income margin'].mean()\n",
    "net_income_margin"
   ]
  },
  {
   "cell_type": "markdown",
   "metadata": {},
   "source": [
    "# Projected Net Income"
   ]
  },
  {
   "cell_type": "code",
   "execution_count": null,
   "metadata": {},
   "outputs": [],
   "source": []
  },
  {
   "cell_type": "code",
   "execution_count": null,
   "metadata": {},
   "outputs": [],
   "source": []
  },
  {
   "cell_type": "code",
   "execution_count": 27,
   "metadata": {},
   "outputs": [
    {
     "data": {
      "text/html": [
       "<div>\n",
       "<style scoped>\n",
       "    .dataframe tbody tr th:only-of-type {\n",
       "        vertical-align: middle;\n",
       "    }\n",
       "\n",
       "    .dataframe tbody tr th {\n",
       "        vertical-align: top;\n",
       "    }\n",
       "\n",
       "    .dataframe thead th {\n",
       "        text-align: right;\n",
       "    }\n",
       "</style>\n",
       "<table border=\"1\" class=\"dataframe\">\n",
       "  <thead>\n",
       "    <tr style=\"text-align: right;\">\n",
       "      <th></th>\n",
       "      <th>Current year (2020)</th>\n",
       "      <th>Next year (2021)</th>\n",
       "      <th>2022E</th>\n",
       "      <th>2023E</th>\n",
       "    </tr>\n",
       "  </thead>\n",
       "  <tbody>\n",
       "    <tr>\n",
       "      <th>Total Revenue</th>\n",
       "      <td>45770.000000</td>\n",
       "      <td>64490.000000</td>\n",
       "      <td>92985.364801</td>\n",
       "      <td>134071.609043</td>\n",
       "    </tr>\n",
       "    <tr>\n",
       "      <th>Net income</th>\n",
       "      <td>6608.728047</td>\n",
       "      <td>9311.707925</td>\n",
       "      <td>13426.152246</td>\n",
       "      <td>19358.593030</td>\n",
       "    </tr>\n",
       "  </tbody>\n",
       "</table>\n",
       "</div>"
      ],
      "text/plain": [
       "               Current year (2020)  Next year (2021)         2022E  \\\n",
       "Total Revenue         45770.000000      64490.000000  92985.364801   \n",
       "Net income             6608.728047       9311.707925  13426.152246   \n",
       "\n",
       "                       2023E  \n",
       "Total Revenue  134071.609043  \n",
       "Net income      19358.593030  "
      ]
     },
     "execution_count": 27,
     "metadata": {},
     "output_type": "execute_result"
    }
   ],
   "source": [
    "projected_revenues = projected_revenue.iloc[:, -4:]\n",
    "projected_revenues.loc['Net income'] = projected_revenues.loc['Total Revenue'] * net_income_margin/100\n",
    "projected_revenues"
   ]
  },
  {
   "cell_type": "code",
   "execution_count": 28,
   "metadata": {},
   "outputs": [
    {
     "data": {
      "text/html": [
       "<div>\n",
       "<style scoped>\n",
       "    .dataframe tbody tr th:only-of-type {\n",
       "        vertical-align: middle;\n",
       "    }\n",
       "\n",
       "    .dataframe tbody tr th {\n",
       "        vertical-align: top;\n",
       "    }\n",
       "\n",
       "    .dataframe thead th {\n",
       "        text-align: right;\n",
       "    }\n",
       "</style>\n",
       "<table border=\"1\" class=\"dataframe\">\n",
       "  <thead>\n",
       "    <tr style=\"text-align: right;\">\n",
       "      <th></th>\n",
       "      <th>Current year (2020)</th>\n",
       "      <th>Next year (2021)</th>\n",
       "      <th>2022E</th>\n",
       "      <th>2023E</th>\n",
       "    </tr>\n",
       "  </thead>\n",
       "  <tbody>\n",
       "    <tr>\n",
       "      <th>Total Revenue</th>\n",
       "      <td>45770.000000</td>\n",
       "      <td>64490.000000</td>\n",
       "      <td>92985.364801</td>\n",
       "      <td>134071.609043</td>\n",
       "    </tr>\n",
       "    <tr>\n",
       "      <th>Net income</th>\n",
       "      <td>6608.728047</td>\n",
       "      <td>9311.707925</td>\n",
       "      <td>13426.152246</td>\n",
       "      <td>19358.593030</td>\n",
       "    </tr>\n",
       "    <tr>\n",
       "      <th>Free Cash Flow</th>\n",
       "      <td>1792.474789</td>\n",
       "      <td>2525.599719</td>\n",
       "      <td>3641.553903</td>\n",
       "      <td>5250.600374</td>\n",
       "    </tr>\n",
       "  </tbody>\n",
       "</table>\n",
       "</div>"
      ],
      "text/plain": [
       "                Current year (2020)  Next year (2021)         2022E  \\\n",
       "Total Revenue          45770.000000      64490.000000  92985.364801   \n",
       "Net income              6608.728047       9311.707925  13426.152246   \n",
       "Free Cash Flow          1792.474789       2525.599719   3641.553903   \n",
       "\n",
       "                        2023E  \n",
       "Total Revenue   134071.609043  \n",
       "Net income       19358.593030  \n",
       "Free Cash Flow    5250.600374  "
      ]
     },
     "execution_count": 28,
     "metadata": {},
     "output_type": "execute_result"
    }
   ],
   "source": [
    "projected_revenues.loc['Free Cash Flow'] = projected_revenues.loc['Net income'] * low_fcfe_ni_percent/100\n",
    "projected_fcf = projected_revenues\n",
    "projected_fcf"
   ]
  },
  {
   "cell_type": "markdown",
   "metadata": {},
   "source": [
    "# Merge with past data"
   ]
  },
  {
   "cell_type": "code",
   "execution_count": 29,
   "metadata": {},
   "outputs": [
    {
     "data": {
      "text/html": [
       "<div>\n",
       "<style scoped>\n",
       "    .dataframe tbody tr th:only-of-type {\n",
       "        vertical-align: middle;\n",
       "    }\n",
       "\n",
       "    .dataframe tbody tr th {\n",
       "        vertical-align: top;\n",
       "    }\n",
       "\n",
       "    .dataframe thead th {\n",
       "        text-align: right;\n",
       "    }\n",
       "</style>\n",
       "<table border=\"1\" class=\"dataframe\">\n",
       "  <thead>\n",
       "    <tr style=\"text-align: right;\">\n",
       "      <th></th>\n",
       "      <th>31/12/2016</th>\n",
       "      <th>31/12/2017</th>\n",
       "      <th>31/12/2018</th>\n",
       "      <th>31/12/2019</th>\n",
       "    </tr>\n",
       "    <tr>\n",
       "      <th>Breakdown</th>\n",
       "      <th></th>\n",
       "      <th></th>\n",
       "      <th></th>\n",
       "      <th></th>\n",
       "    </tr>\n",
       "  </thead>\n",
       "  <tbody>\n",
       "    <tr>\n",
       "      <th>Net income</th>\n",
       "      <td>1401.000</td>\n",
       "      <td>1791.0</td>\n",
       "      <td>2588.0</td>\n",
       "      <td>7454.0</td>\n",
       "    </tr>\n",
       "    <tr>\n",
       "      <th>Free Cash Flow</th>\n",
       "      <td>379.991</td>\n",
       "      <td>5633.0</td>\n",
       "      <td>14401.0</td>\n",
       "      <td>13476.0</td>\n",
       "    </tr>\n",
       "  </tbody>\n",
       "</table>\n",
       "</div>"
      ],
      "text/plain": [
       "0               31/12/2016  31/12/2017  31/12/2018  31/12/2019\n",
       "Breakdown                                                     \n",
       "Net income        1401.000      1791.0      2588.0      7454.0\n",
       "Free Cash Flow     379.991      5633.0     14401.0     13476.0"
      ]
     },
     "execution_count": 29,
     "metadata": {},
     "output_type": "execute_result"
    }
   ],
   "source": [
    "past_fcf = fcf.loc[['Net income', 'FCF to Equity (simple)']]\n",
    "past_fcf.rename(index={'FCF to Equity (simple)': 'Free Cash Flow'}, inplace=True)\n",
    "past_fcf"
   ]
  },
  {
   "cell_type": "code",
   "execution_count": 32,
   "metadata": {},
   "outputs": [
    {
     "data": {
      "text/html": [
       "<div>\n",
       "<style scoped>\n",
       "    .dataframe tbody tr th:only-of-type {\n",
       "        vertical-align: middle;\n",
       "    }\n",
       "\n",
       "    .dataframe tbody tr th {\n",
       "        vertical-align: top;\n",
       "    }\n",
       "\n",
       "    .dataframe thead th {\n",
       "        text-align: right;\n",
       "    }\n",
       "</style>\n",
       "<table border=\"1\" class=\"dataframe\">\n",
       "  <thead>\n",
       "    <tr style=\"text-align: right;\">\n",
       "      <th></th>\n",
       "      <th>31/12/2016</th>\n",
       "      <th>31/12/2017</th>\n",
       "      <th>31/12/2018</th>\n",
       "      <th>31/12/2019</th>\n",
       "      <th>Current year (2020)</th>\n",
       "      <th>Next year (2021)</th>\n",
       "      <th>2022E</th>\n",
       "      <th>2023E</th>\n",
       "    </tr>\n",
       "  </thead>\n",
       "  <tbody>\n",
       "    <tr>\n",
       "      <th>Total Revenue</th>\n",
       "      <td>10417.000</td>\n",
       "      <td>15234.0</td>\n",
       "      <td>23424.0</td>\n",
       "      <td>34667.0</td>\n",
       "      <td>45770.0</td>\n",
       "      <td>64490.0</td>\n",
       "      <td>92985.364801</td>\n",
       "      <td>134071.609043</td>\n",
       "    </tr>\n",
       "    <tr>\n",
       "      <th>Net income</th>\n",
       "      <td>1401.000</td>\n",
       "      <td>1791.0</td>\n",
       "      <td>2588.0</td>\n",
       "      <td>7454.0</td>\n",
       "      <td>NaN</td>\n",
       "      <td>NaN</td>\n",
       "      <td>NaN</td>\n",
       "      <td>NaN</td>\n",
       "    </tr>\n",
       "    <tr>\n",
       "      <th>Free Cash Flow</th>\n",
       "      <td>379.991</td>\n",
       "      <td>5633.0</td>\n",
       "      <td>14401.0</td>\n",
       "      <td>13476.0</td>\n",
       "      <td>NaN</td>\n",
       "      <td>NaN</td>\n",
       "      <td>NaN</td>\n",
       "      <td>NaN</td>\n",
       "    </tr>\n",
       "  </tbody>\n",
       "</table>\n",
       "</div>"
      ],
      "text/plain": [
       "                31/12/2016  31/12/2017  31/12/2018  31/12/2019  \\\n",
       "Total Revenue    10417.000     15234.0     23424.0     34667.0   \n",
       "Net income        1401.000      1791.0      2588.0      7454.0   \n",
       "Free Cash Flow     379.991      5633.0     14401.0     13476.0   \n",
       "\n",
       "                Current year (2020)  Next year (2021)         2022E  \\\n",
       "Total Revenue               45770.0           64490.0  92985.364801   \n",
       "Net income                      NaN               NaN           NaN   \n",
       "Free Cash Flow                  NaN               NaN           NaN   \n",
       "\n",
       "                        2023E  \n",
       "Total Revenue   134071.609043  \n",
       "Net income                NaN  \n",
       "Free Cash Flow            NaN  "
      ]
     },
     "execution_count": 32,
     "metadata": {},
     "output_type": "execute_result"
    }
   ],
   "source": [
    "projected_revenue.rename(index={'Total revenue': 'Total Revenue'}, inplace=True)\n",
    "past_fcf = pd.concat([projected_revenue, past_fcf])\n",
    "past_fcf"
   ]
  },
  {
   "cell_type": "code",
   "execution_count": 40,
   "metadata": {},
   "outputs": [
    {
     "data": {
      "text/html": [
       "<div>\n",
       "<style scoped>\n",
       "    .dataframe tbody tr th:only-of-type {\n",
       "        vertical-align: middle;\n",
       "    }\n",
       "\n",
       "    .dataframe tbody tr th {\n",
       "        vertical-align: top;\n",
       "    }\n",
       "\n",
       "    .dataframe thead th {\n",
       "        text-align: right;\n",
       "    }\n",
       "</style>\n",
       "<table border=\"1\" class=\"dataframe\">\n",
       "  <thead>\n",
       "    <tr style=\"text-align: right;\">\n",
       "      <th></th>\n",
       "      <th>30/09/2016</th>\n",
       "      <th>30/09/2017</th>\n",
       "      <th>30/09/2018</th>\n",
       "      <th>30/09/2019</th>\n",
       "      <th>Current year (2020)</th>\n",
       "      <th>Next year (2021)</th>\n",
       "      <th>2022E</th>\n",
       "      <th>2023E</th>\n",
       "    </tr>\n",
       "    <tr>\n",
       "      <th>Breakdown</th>\n",
       "      <th></th>\n",
       "      <th></th>\n",
       "      <th></th>\n",
       "      <th></th>\n",
       "      <th></th>\n",
       "      <th></th>\n",
       "      <th></th>\n",
       "      <th></th>\n",
       "    </tr>\n",
       "  </thead>\n",
       "  <tbody>\n",
       "    <tr>\n",
       "      <th>Total Revenue</th>\n",
       "      <td>215,639,000.000</td>\n",
       "      <td>229,234,000.000</td>\n",
       "      <td>265,595,000.000</td>\n",
       "      <td>260,174,000.000</td>\n",
       "      <td>263,690,000.000</td>\n",
       "      <td>295,660,000.000</td>\n",
       "      <td>315,528,876.300</td>\n",
       "      <td>336,732,976.322</td>\n",
       "    </tr>\n",
       "    <tr>\n",
       "      <th>Net income</th>\n",
       "      <td>45,687,000.000</td>\n",
       "      <td>48,351,000.000</td>\n",
       "      <td>59,531,000.000</td>\n",
       "      <td>55,256,000.000</td>\n",
       "      <td>56,648,203.458</td>\n",
       "      <td>63,516,279.853</td>\n",
       "      <td>67,784,686.494</td>\n",
       "      <td>72,339,937.631</td>\n",
       "    </tr>\n",
       "    <tr>\n",
       "      <th>Free Cash Flow</th>\n",
       "      <td>52,276,000.000</td>\n",
       "      <td>50,803,000.000</td>\n",
       "      <td>64,121,000.000</td>\n",
       "      <td>58,896,000.000</td>\n",
       "      <td>59,520,975.374</td>\n",
       "      <td>66,737,349.080</td>\n",
       "      <td>71,222,217.285</td>\n",
       "      <td>76,008,476.587</td>\n",
       "    </tr>\n",
       "  </tbody>\n",
       "</table>\n",
       "</div>"
      ],
      "text/plain": [
       "                    30/09/2016      30/09/2017      30/09/2018  \\\n",
       "Breakdown                                                        \n",
       "Total Revenue  215,639,000.000 229,234,000.000 265,595,000.000   \n",
       "Net income      45,687,000.000  48,351,000.000  59,531,000.000   \n",
       "Free Cash Flow  52,276,000.000  50,803,000.000  64,121,000.000   \n",
       "\n",
       "                    30/09/2019  Current year (2020)  Next year (2021)  \\\n",
       "Breakdown                                                               \n",
       "Total Revenue  260,174,000.000      263,690,000.000   295,660,000.000   \n",
       "Net income      55,256,000.000       56,648,203.458    63,516,279.853   \n",
       "Free Cash Flow  58,896,000.000       59,520,975.374    66,737,349.080   \n",
       "\n",
       "                         2022E           2023E  \n",
       "Breakdown                                       \n",
       "Total Revenue  315,528,876.300 336,732,976.322  \n",
       "Net income      67,784,686.494  72,339,937.631  \n",
       "Free Cash Flow  71,222,217.285  76,008,476.587  "
      ]
     },
     "execution_count": 40,
     "metadata": {},
     "output_type": "execute_result"
    }
   ],
   "source": [
    "combined_fcf = pd.concat([past_fcf, projected_fcf], axis=1)\n",
    "combined_fcf"
   ]
  },
  {
   "cell_type": "markdown",
   "metadata": {},
   "source": [
    "# Required Rate of Return (WACC)"
   ]
  },
  {
   "cell_type": "markdown",
   "metadata": {},
   "source": [
    "## WACC = w_d * r_d * (1-t) + w_e * r_e"
   ]
  },
  {
   "cell_type": "markdown",
   "metadata": {},
   "source": [
    "## cost of debt (r_d)"
   ]
  },
  {
   "cell_type": "code",
   "execution_count": 41,
   "metadata": {},
   "outputs": [
    {
     "data": {
      "text/plain": [
       "3576000"
      ]
     },
     "execution_count": 41,
     "metadata": {},
     "output_type": "execute_result"
    }
   ],
   "source": [
    "#interest expense from the past year (2019)\n",
    "\n",
    "interest_expense = pnl.set_index('Breakdown').loc[['Interest expense']].iloc[:, 1][0]\n",
    "interest_expense = pd.to_numeric(interest_expense.replace(',', ''))\n",
    "interest_expense"
   ]
  },
  {
   "cell_type": "code",
   "execution_count": 42,
   "metadata": {
    "scrolled": true
   },
   "outputs": [
    {
     "data": {
      "text/html": [
       "<div>\n",
       "<style scoped>\n",
       "    .dataframe tbody tr th:only-of-type {\n",
       "        vertical-align: middle;\n",
       "    }\n",
       "\n",
       "    .dataframe tbody tr th {\n",
       "        vertical-align: top;\n",
       "    }\n",
       "\n",
       "    .dataframe thead th {\n",
       "        text-align: right;\n",
       "    }\n",
       "</style>\n",
       "<table border=\"1\" class=\"dataframe\">\n",
       "  <thead>\n",
       "    <tr style=\"text-align: right;\">\n",
       "      <th></th>\n",
       "      <th>Breakdown</th>\n",
       "      <th>ttm</th>\n",
       "      <th>30/09/2019</th>\n",
       "      <th>30/09/2018</th>\n",
       "      <th>30/09/2017</th>\n",
       "      <th>30/09/2016</th>\n",
       "    </tr>\n",
       "  </thead>\n",
       "  <tbody>\n",
       "    <tr>\n",
       "      <th>1</th>\n",
       "      <td>Total revenue</td>\n",
       "      <td>267,981,000</td>\n",
       "      <td>260,174,000</td>\n",
       "      <td>265,595,000</td>\n",
       "      <td>229,234,000</td>\n",
       "      <td>215,639,000</td>\n",
       "    </tr>\n",
       "    <tr>\n",
       "      <th>2</th>\n",
       "      <td>Cost of revenue</td>\n",
       "      <td>165,854,000</td>\n",
       "      <td>161,782,000</td>\n",
       "      <td>163,756,000</td>\n",
       "      <td>141,048,000</td>\n",
       "      <td>131,376,000</td>\n",
       "    </tr>\n",
       "    <tr>\n",
       "      <th>3</th>\n",
       "      <td>Gross profit</td>\n",
       "      <td>102,127,000</td>\n",
       "      <td>98,392,000</td>\n",
       "      <td>101,839,000</td>\n",
       "      <td>88,186,000</td>\n",
       "      <td>84,263,000</td>\n",
       "    </tr>\n",
       "    <tr>\n",
       "      <th>4</th>\n",
       "      <td>Research development</td>\n",
       "      <td>17,383,000</td>\n",
       "      <td>16,217,000</td>\n",
       "      <td>14,236,000</td>\n",
       "      <td>11,581,000</td>\n",
       "      <td>10,045,000</td>\n",
       "    </tr>\n",
       "    <tr>\n",
       "      <th>5</th>\n",
       "      <td>Selling general and administrative</td>\n",
       "      <td>19,153,000</td>\n",
       "      <td>18,245,000</td>\n",
       "      <td>16,705,000</td>\n",
       "      <td>15,261,000</td>\n",
       "      <td>14,194,000</td>\n",
       "    </tr>\n",
       "    <tr>\n",
       "      <th>6</th>\n",
       "      <td>Total operating expenses</td>\n",
       "      <td>36,536,000</td>\n",
       "      <td>34,462,000</td>\n",
       "      <td>30,941,000</td>\n",
       "      <td>26,842,000</td>\n",
       "      <td>24,239,000</td>\n",
       "    </tr>\n",
       "    <tr>\n",
       "      <th>7</th>\n",
       "      <td>Operating income or loss</td>\n",
       "      <td>65,591,000</td>\n",
       "      <td>63,930,000</td>\n",
       "      <td>70,898,000</td>\n",
       "      <td>61,344,000</td>\n",
       "      <td>60,024,000</td>\n",
       "    </tr>\n",
       "    <tr>\n",
       "      <th>8</th>\n",
       "      <td>Interest expense</td>\n",
       "      <td>3,218,000</td>\n",
       "      <td>3,576,000</td>\n",
       "      <td>3,240,000</td>\n",
       "      <td>2,323,000</td>\n",
       "      <td>1,456,000</td>\n",
       "    </tr>\n",
       "    <tr>\n",
       "      <th>9</th>\n",
       "      <td>Total other income/expenses net</td>\n",
       "      <td>328,000</td>\n",
       "      <td>422,000</td>\n",
       "      <td>-441,000</td>\n",
       "      <td>-133,000</td>\n",
       "      <td>-1,195,000</td>\n",
       "    </tr>\n",
       "    <tr>\n",
       "      <th>10</th>\n",
       "      <td>Income before tax</td>\n",
       "      <td>67,091,000</td>\n",
       "      <td>65,737,000</td>\n",
       "      <td>72,903,000</td>\n",
       "      <td>64,089,000</td>\n",
       "      <td>61,372,000</td>\n",
       "    </tr>\n",
       "    <tr>\n",
       "      <th>11</th>\n",
       "      <td>Income tax expense</td>\n",
       "      <td>9,876,000</td>\n",
       "      <td>10,481,000</td>\n",
       "      <td>13,372,000</td>\n",
       "      <td>15,738,000</td>\n",
       "      <td>15,685,000</td>\n",
       "    </tr>\n",
       "    <tr>\n",
       "      <th>12</th>\n",
       "      <td>Income from continuing operations</td>\n",
       "      <td>57,215,000</td>\n",
       "      <td>55,256,000</td>\n",
       "      <td>59,531,000</td>\n",
       "      <td>48,351,000</td>\n",
       "      <td>45,687,000</td>\n",
       "    </tr>\n",
       "    <tr>\n",
       "      <th>13</th>\n",
       "      <td>Net income</td>\n",
       "      <td>57,215,000</td>\n",
       "      <td>55,256,000</td>\n",
       "      <td>59,531,000</td>\n",
       "      <td>48,351,000</td>\n",
       "      <td>45,687,000</td>\n",
       "    </tr>\n",
       "    <tr>\n",
       "      <th>14</th>\n",
       "      <td>Net income available to common shareholders</td>\n",
       "      <td>57,215,000</td>\n",
       "      <td>55,256,000</td>\n",
       "      <td>59,531,000</td>\n",
       "      <td>48,351,000</td>\n",
       "      <td>45,687,000</td>\n",
       "    </tr>\n",
       "    <tr>\n",
       "      <th>15</th>\n",
       "      <td>Basic average shares</td>\n",
       "      <td>NaN</td>\n",
       "      <td>4,617,834</td>\n",
       "      <td>4,955,377</td>\n",
       "      <td>5,217,242</td>\n",
       "      <td>5,470,820</td>\n",
       "    </tr>\n",
       "    <tr>\n",
       "      <th>16</th>\n",
       "      <td>Diluted average shares</td>\n",
       "      <td>NaN</td>\n",
       "      <td>4,648,913</td>\n",
       "      <td>5,000,109</td>\n",
       "      <td>5,251,692</td>\n",
       "      <td>5,500,281</td>\n",
       "    </tr>\n",
       "    <tr>\n",
       "      <th>17</th>\n",
       "      <td>EBITDA</td>\n",
       "      <td>NaN</td>\n",
       "      <td>81,860,000</td>\n",
       "      <td>87,046,000</td>\n",
       "      <td>76,569,000</td>\n",
       "      <td>73,333,000</td>\n",
       "    </tr>\n",
       "  </tbody>\n",
       "</table>\n",
       "</div>"
      ],
      "text/plain": [
       "0                                     Breakdown          ttm   30/09/2019  \\\n",
       "1                                 Total revenue  267,981,000  260,174,000   \n",
       "2                               Cost of revenue  165,854,000  161,782,000   \n",
       "3                                  Gross profit  102,127,000   98,392,000   \n",
       "4                          Research development   17,383,000   16,217,000   \n",
       "5            Selling general and administrative   19,153,000   18,245,000   \n",
       "6                      Total operating expenses   36,536,000   34,462,000   \n",
       "7                      Operating income or loss   65,591,000   63,930,000   \n",
       "8                              Interest expense    3,218,000    3,576,000   \n",
       "9               Total other income/expenses net      328,000      422,000   \n",
       "10                            Income before tax   67,091,000   65,737,000   \n",
       "11                           Income tax expense    9,876,000   10,481,000   \n",
       "12            Income from continuing operations   57,215,000   55,256,000   \n",
       "13                                   Net income   57,215,000   55,256,000   \n",
       "14  Net income available to common shareholders   57,215,000   55,256,000   \n",
       "15                         Basic average shares          NaN    4,617,834   \n",
       "16                       Diluted average shares          NaN    4,648,913   \n",
       "17                                       EBITDA          NaN   81,860,000   \n",
       "\n",
       "0    30/09/2018   30/09/2017   30/09/2016  \n",
       "1   265,595,000  229,234,000  215,639,000  \n",
       "2   163,756,000  141,048,000  131,376,000  \n",
       "3   101,839,000   88,186,000   84,263,000  \n",
       "4    14,236,000   11,581,000   10,045,000  \n",
       "5    16,705,000   15,261,000   14,194,000  \n",
       "6    30,941,000   26,842,000   24,239,000  \n",
       "7    70,898,000   61,344,000   60,024,000  \n",
       "8     3,240,000    2,323,000    1,456,000  \n",
       "9      -441,000     -133,000   -1,195,000  \n",
       "10   72,903,000   64,089,000   61,372,000  \n",
       "11   13,372,000   15,738,000   15,685,000  \n",
       "12   59,531,000   48,351,000   45,687,000  \n",
       "13   59,531,000   48,351,000   45,687,000  \n",
       "14   59,531,000   48,351,000   45,687,000  \n",
       "15    4,955,377    5,217,242    5,470,820  \n",
       "16    5,000,109    5,251,692    5,500,281  \n",
       "17   87,046,000   76,569,000   73,333,000  "
      ]
     },
     "execution_count": 42,
     "metadata": {},
     "output_type": "execute_result"
    }
   ],
   "source": [
    "pnl"
   ]
  },
  {
   "cell_type": "code",
   "execution_count": 43,
   "metadata": {
    "scrolled": true
   },
   "outputs": [
    {
     "data": {
      "text/html": [
       "<div>\n",
       "<style scoped>\n",
       "    .dataframe tbody tr th:only-of-type {\n",
       "        vertical-align: middle;\n",
       "    }\n",
       "\n",
       "    .dataframe tbody tr th {\n",
       "        vertical-align: top;\n",
       "    }\n",
       "\n",
       "    .dataframe thead th {\n",
       "        text-align: right;\n",
       "    }\n",
       "</style>\n",
       "<table border=\"1\" class=\"dataframe\">\n",
       "  <thead>\n",
       "    <tr style=\"text-align: right;\">\n",
       "      <th></th>\n",
       "      <th>30/09/2019</th>\n",
       "      <th>30/09/2018</th>\n",
       "      <th>30/09/2017</th>\n",
       "      <th>30/09/2016</th>\n",
       "    </tr>\n",
       "    <tr>\n",
       "      <th>Breakdown</th>\n",
       "      <th></th>\n",
       "      <th></th>\n",
       "      <th></th>\n",
       "      <th></th>\n",
       "    </tr>\n",
       "  </thead>\n",
       "  <tbody>\n",
       "    <tr>\n",
       "      <th>Current debt</th>\n",
       "      <td>16240000</td>\n",
       "      <td>20748000</td>\n",
       "      <td>18473000</td>\n",
       "      <td>11605000</td>\n",
       "    </tr>\n",
       "    <tr>\n",
       "      <th>Long-term debt</th>\n",
       "      <td>91807000</td>\n",
       "      <td>93735000</td>\n",
       "      <td>97207000</td>\n",
       "      <td>75427000</td>\n",
       "    </tr>\n",
       "    <tr>\n",
       "      <th>Total debt</th>\n",
       "      <td>108047000</td>\n",
       "      <td>114483000</td>\n",
       "      <td>115680000</td>\n",
       "      <td>87032000</td>\n",
       "    </tr>\n",
       "  </tbody>\n",
       "</table>\n",
       "</div>"
      ],
      "text/plain": [
       "0               30/09/2019  30/09/2018  30/09/2017  30/09/2016\n",
       "Breakdown                                                     \n",
       "Current debt      16240000    20748000    18473000    11605000\n",
       "Long-term debt    91807000    93735000    97207000    75427000\n",
       "Total debt       108047000   114483000   115680000    87032000"
      ]
     },
     "execution_count": 43,
     "metadata": {},
     "output_type": "execute_result"
    }
   ],
   "source": [
    "total_debt = balance_sheet.set_index('Breakdown').loc[['Current debt', 'Long-term debt']]#.iloc[:, 0]\n",
    "total_debt.replace(',', '', regex=True, inplace=True)\n",
    "\n",
    "total_debt = total_debt.apply(pd.to_numeric, errors='coerce')\n",
    "\n",
    "total_debt.loc['Total debt'] = total_debt.loc['Current debt'] + total_debt.loc['Long-term debt']\n",
    "\n",
    "total_debt"
   ]
  },
  {
   "cell_type": "code",
   "execution_count": 44,
   "metadata": {},
   "outputs": [
    {
     "data": {
      "text/plain": [
       "108047000"
      ]
     },
     "execution_count": 44,
     "metadata": {},
     "output_type": "execute_result"
    }
   ],
   "source": [
    "total_debt_ly = total_debt.iloc[2, 0]\n",
    "total_debt_ly"
   ]
  },
  {
   "cell_type": "code",
   "execution_count": 45,
   "metadata": {},
   "outputs": [
    {
     "data": {
      "text/plain": [
       "0.033096707914148475"
      ]
     },
     "execution_count": 45,
     "metadata": {},
     "output_type": "execute_result"
    }
   ],
   "source": [
    "r_d = interest_expense/total_debt_ly\n",
    "r_d"
   ]
  },
  {
   "cell_type": "markdown",
   "metadata": {},
   "source": [
    "# Tax"
   ]
  },
  {
   "cell_type": "markdown",
   "metadata": {},
   "source": [
    "## Taking income tax expense and divide over income before tax"
   ]
  },
  {
   "cell_type": "code",
   "execution_count": 46,
   "metadata": {},
   "outputs": [
    {
     "data": {
      "text/html": [
       "<div>\n",
       "<style scoped>\n",
       "    .dataframe tbody tr th:only-of-type {\n",
       "        vertical-align: middle;\n",
       "    }\n",
       "\n",
       "    .dataframe tbody tr th {\n",
       "        vertical-align: top;\n",
       "    }\n",
       "\n",
       "    .dataframe thead th {\n",
       "        text-align: right;\n",
       "    }\n",
       "</style>\n",
       "<table border=\"1\" class=\"dataframe\">\n",
       "  <thead>\n",
       "    <tr style=\"text-align: right;\">\n",
       "      <th></th>\n",
       "      <th>ttm</th>\n",
       "      <th>30/09/2019</th>\n",
       "      <th>30/09/2018</th>\n",
       "      <th>30/09/2017</th>\n",
       "      <th>30/09/2016</th>\n",
       "    </tr>\n",
       "    <tr>\n",
       "      <th>Breakdown</th>\n",
       "      <th></th>\n",
       "      <th></th>\n",
       "      <th></th>\n",
       "      <th></th>\n",
       "      <th></th>\n",
       "    </tr>\n",
       "  </thead>\n",
       "  <tbody>\n",
       "    <tr>\n",
       "      <th>Income before tax</th>\n",
       "      <td>67,091,000.000</td>\n",
       "      <td>65,737,000.000</td>\n",
       "      <td>72,903,000.000</td>\n",
       "      <td>64,089,000.000</td>\n",
       "      <td>61,372,000.000</td>\n",
       "    </tr>\n",
       "    <tr>\n",
       "      <th>Income tax expense</th>\n",
       "      <td>9,876,000.000</td>\n",
       "      <td>10,481,000.000</td>\n",
       "      <td>13,372,000.000</td>\n",
       "      <td>15,738,000.000</td>\n",
       "      <td>15,685,000.000</td>\n",
       "    </tr>\n",
       "    <tr>\n",
       "      <th>Calc. Eff. Tax Rate</th>\n",
       "      <td>14.720</td>\n",
       "      <td>15.944</td>\n",
       "      <td>18.342</td>\n",
       "      <td>24.556</td>\n",
       "      <td>25.557</td>\n",
       "    </tr>\n",
       "  </tbody>\n",
       "</table>\n",
       "</div>"
      ],
      "text/plain": [
       "0                              ttm     30/09/2019     30/09/2018  \\\n",
       "Breakdown                                                          \n",
       "Income before tax   67,091,000.000 65,737,000.000 72,903,000.000   \n",
       "Income tax expense   9,876,000.000 10,481,000.000 13,372,000.000   \n",
       "Calc. Eff. Tax Rate         14.720         15.944         18.342   \n",
       "\n",
       "0                       30/09/2017     30/09/2016  \n",
       "Breakdown                                          \n",
       "Income before tax   64,089,000.000 61,372,000.000  \n",
       "Income tax expense  15,738,000.000 15,685,000.000  \n",
       "Calc. Eff. Tax Rate         24.556         25.557  "
      ]
     },
     "execution_count": 46,
     "metadata": {},
     "output_type": "execute_result"
    }
   ],
   "source": [
    "income_tax = pnl.set_index('Breakdown').loc[['Income before tax', 'Income tax expense']]\n",
    "income_tax.replace(',', '', regex=True, inplace=True)\n",
    "income_tax = income_tax.apply(pd.to_numeric, errors='coerce')\n",
    "income_tax.loc['Calc. Eff. Tax Rate'] = income_tax.loc['Income tax expense'] / income_tax.loc['Income before tax'] * 100\n",
    "income_tax"
   ]
  },
  {
   "cell_type": "code",
   "execution_count": 47,
   "metadata": {},
   "outputs": [
    {
     "data": {
      "text/plain": [
       "15.94383680423506"
      ]
     },
     "execution_count": 47,
     "metadata": {},
     "output_type": "execute_result"
    }
   ],
   "source": [
    "income_tax_rate = income_tax.iloc[2, 1]\n",
    "income_tax_rate"
   ]
  },
  {
   "cell_type": "markdown",
   "metadata": {},
   "source": [
    "# CAPM"
   ]
  },
  {
   "cell_type": "markdown",
   "metadata": {},
   "source": [
    "## R_a = R_f + b(R_m - R_f)"
   ]
  },
  {
   "cell_type": "markdown",
   "metadata": {},
   "source": [
    "## Risk-free rate (R_f)"
   ]
  },
  {
   "cell_type": "code",
   "execution_count": 48,
   "metadata": {},
   "outputs": [
    {
     "data": {
      "text/plain": [
       "0.00653"
      ]
     },
     "execution_count": 48,
     "metadata": {},
     "output_type": "execute_result"
    }
   ],
   "source": [
    "R_f = 0.6530/100\n",
    "R_f"
   ]
  },
  {
   "cell_type": "markdown",
   "metadata": {},
   "source": [
    "## beta"
   ]
  },
  {
   "cell_type": "code",
   "execution_count": 49,
   "metadata": {
    "scrolled": true
   },
   "outputs": [
    {
     "data": {
      "text/html": [
       "<div>\n",
       "<style scoped>\n",
       "    .dataframe tbody tr th:only-of-type {\n",
       "        vertical-align: middle;\n",
       "    }\n",
       "\n",
       "    .dataframe tbody tr th {\n",
       "        vertical-align: top;\n",
       "    }\n",
       "\n",
       "    .dataframe thead th {\n",
       "        text-align: right;\n",
       "    }\n",
       "</style>\n",
       "<table border=\"1\" class=\"dataframe\">\n",
       "  <thead>\n",
       "    <tr style=\"text-align: right;\">\n",
       "      <th></th>\n",
       "      <th>AAPL</th>\n",
       "    </tr>\n",
       "    <tr>\n",
       "      <th>Stat</th>\n",
       "      <th></th>\n",
       "    </tr>\n",
       "  </thead>\n",
       "  <tbody>\n",
       "    <tr>\n",
       "      <th>Market cap (intra-day) 5</th>\n",
       "      <td>1.66T</td>\n",
       "    </tr>\n",
       "    <tr>\n",
       "      <th>Enterprise value 3</th>\n",
       "      <td>1.68T</td>\n",
       "    </tr>\n",
       "    <tr>\n",
       "      <th>Trailing P/E</th>\n",
       "      <td>30.07</td>\n",
       "    </tr>\n",
       "    <tr>\n",
       "      <th>Forward P/E 1</th>\n",
       "      <td>25.77</td>\n",
       "    </tr>\n",
       "    <tr>\n",
       "      <th>PEG Ratio (5 yr expected) 1</th>\n",
       "      <td>2.70</td>\n",
       "    </tr>\n",
       "    <tr>\n",
       "      <th>Price/sales (ttm)</th>\n",
       "      <td>6.19</td>\n",
       "    </tr>\n",
       "    <tr>\n",
       "      <th>Price/book (mrq)</th>\n",
       "      <td>21.10</td>\n",
       "    </tr>\n",
       "    <tr>\n",
       "      <th>Enterprise value/revenue 3</th>\n",
       "      <td>6.28</td>\n",
       "    </tr>\n",
       "    <tr>\n",
       "      <th>Enterprise value/EBITDA 6</th>\n",
       "      <td>21.78</td>\n",
       "    </tr>\n",
       "    <tr>\n",
       "      <th>Beta (5Y monthly)</th>\n",
       "      <td>1.18</td>\n",
       "    </tr>\n",
       "    <tr>\n",
       "      <th>52-week change 3</th>\n",
       "      <td>88.40%</td>\n",
       "    </tr>\n",
       "    <tr>\n",
       "      <th>S&amp;P500 52-week change 3</th>\n",
       "      <td>4.59%</td>\n",
       "    </tr>\n",
       "    <tr>\n",
       "      <th>52-week high 3</th>\n",
       "      <td>385.27</td>\n",
       "    </tr>\n",
       "    <tr>\n",
       "      <th>52-week low 3</th>\n",
       "      <td>192.58</td>\n",
       "    </tr>\n",
       "    <tr>\n",
       "      <th>50-day moving average 3</th>\n",
       "      <td>345.70</td>\n",
       "    </tr>\n",
       "    <tr>\n",
       "      <th>200-day moving average 3</th>\n",
       "      <td>304.66</td>\n",
       "    </tr>\n",
       "    <tr>\n",
       "      <th>Avg vol (3-month) 3</th>\n",
       "      <td>35.5M</td>\n",
       "    </tr>\n",
       "    <tr>\n",
       "      <th>Avg vol (10-day) 3</th>\n",
       "      <td>29.95M</td>\n",
       "    </tr>\n",
       "    <tr>\n",
       "      <th>Shares outstanding 5</th>\n",
       "      <td>4.33B</td>\n",
       "    </tr>\n",
       "    <tr>\n",
       "      <th>Float</th>\n",
       "      <td>4.33B</td>\n",
       "    </tr>\n",
       "    <tr>\n",
       "      <th>% held by insiders 1</th>\n",
       "      <td>0.07%</td>\n",
       "    </tr>\n",
       "    <tr>\n",
       "      <th>% held by institutions 1</th>\n",
       "      <td>62.12%</td>\n",
       "    </tr>\n",
       "    <tr>\n",
       "      <th>Shares short (14 Jun 2020) 4</th>\n",
       "      <td>34.83M</td>\n",
       "    </tr>\n",
       "    <tr>\n",
       "      <th>Short ratio (14 Jun 2020) 4</th>\n",
       "      <td>1.09</td>\n",
       "    </tr>\n",
       "    <tr>\n",
       "      <th>Short % of float (14 Jun 2020) 4</th>\n",
       "      <td>0.80%</td>\n",
       "    </tr>\n",
       "    <tr>\n",
       "      <th>Short % of shares outstanding (14 Jun 2020) 4</th>\n",
       "      <td>0.80%</td>\n",
       "    </tr>\n",
       "    <tr>\n",
       "      <th>Shares short (prior month 14 May 2020) 4</th>\n",
       "      <td>33.59M</td>\n",
       "    </tr>\n",
       "    <tr>\n",
       "      <th>Forward annual dividend rate 4</th>\n",
       "      <td>3.28</td>\n",
       "    </tr>\n",
       "    <tr>\n",
       "      <th>Forward annual dividend yield 4</th>\n",
       "      <td>0.86%</td>\n",
       "    </tr>\n",
       "    <tr>\n",
       "      <th>Trailing annual dividend rate 3</th>\n",
       "      <td>3.08</td>\n",
       "    </tr>\n",
       "    <tr>\n",
       "      <th>Trailing annual dividend yield 3</th>\n",
       "      <td>0.81%</td>\n",
       "    </tr>\n",
       "    <tr>\n",
       "      <th>5-year average dividend yield 4</th>\n",
       "      <td>1.57</td>\n",
       "    </tr>\n",
       "    <tr>\n",
       "      <th>Payout ratio 4</th>\n",
       "      <td>24.08%</td>\n",
       "    </tr>\n",
       "    <tr>\n",
       "      <th>Dividend date 3</th>\n",
       "      <td>13 May 2020</td>\n",
       "    </tr>\n",
       "    <tr>\n",
       "      <th>Ex-dividend date 4</th>\n",
       "      <td>07 May 2020</td>\n",
       "    </tr>\n",
       "    <tr>\n",
       "      <th>Last split factor 2</th>\n",
       "      <td>7:1</td>\n",
       "    </tr>\n",
       "    <tr>\n",
       "      <th>Last split date 3</th>\n",
       "      <td>08 Jun 2014</td>\n",
       "    </tr>\n",
       "    <tr>\n",
       "      <th>Fiscal year ends</th>\n",
       "      <td>27 Sep 2019</td>\n",
       "    </tr>\n",
       "    <tr>\n",
       "      <th>Most-recent quarter (mrq)</th>\n",
       "      <td>27 Mar 2020</td>\n",
       "    </tr>\n",
       "    <tr>\n",
       "      <th>Profit margin</th>\n",
       "      <td>21.35%</td>\n",
       "    </tr>\n",
       "    <tr>\n",
       "      <th>Operating margin (ttm)</th>\n",
       "      <td>24.48%</td>\n",
       "    </tr>\n",
       "    <tr>\n",
       "      <th>Return on assets (ttm)</th>\n",
       "      <td>12.38%</td>\n",
       "    </tr>\n",
       "    <tr>\n",
       "      <th>Return on equity (ttm)</th>\n",
       "      <td>62.09%</td>\n",
       "    </tr>\n",
       "    <tr>\n",
       "      <th>Revenue (ttm)</th>\n",
       "      <td>267.98B</td>\n",
       "    </tr>\n",
       "    <tr>\n",
       "      <th>Revenue per share (ttm)</th>\n",
       "      <td>60.10</td>\n",
       "    </tr>\n",
       "    <tr>\n",
       "      <th>Quarterly revenue growth (yoy)</th>\n",
       "      <td>0.50%</td>\n",
       "    </tr>\n",
       "    <tr>\n",
       "      <th>Gross profit (ttm)</th>\n",
       "      <td>98.39B</td>\n",
       "    </tr>\n",
       "    <tr>\n",
       "      <th>EBITDA</th>\n",
       "      <td>77.31B</td>\n",
       "    </tr>\n",
       "    <tr>\n",
       "      <th>Net income avi to common (ttm)</th>\n",
       "      <td>57.22B</td>\n",
       "    </tr>\n",
       "    <tr>\n",
       "      <th>Diluted EPS (ttm)</th>\n",
       "      <td>12.73</td>\n",
       "    </tr>\n",
       "    <tr>\n",
       "      <th>Quarterly earnings growth (yoy)</th>\n",
       "      <td>-2.70%</td>\n",
       "    </tr>\n",
       "    <tr>\n",
       "      <th>Total cash (mrq)</th>\n",
       "      <td>94.05B</td>\n",
       "    </tr>\n",
       "    <tr>\n",
       "      <th>Total cash per share (mrq)</th>\n",
       "      <td>21.7</td>\n",
       "    </tr>\n",
       "    <tr>\n",
       "      <th>Total debt (mrq)</th>\n",
       "      <td>118.76B</td>\n",
       "    </tr>\n",
       "    <tr>\n",
       "      <th>Total debt/equity (mrq)</th>\n",
       "      <td>151.43</td>\n",
       "    </tr>\n",
       "    <tr>\n",
       "      <th>Current ratio (mrq)</th>\n",
       "      <td>1.50</td>\n",
       "    </tr>\n",
       "    <tr>\n",
       "      <th>Book value per share (mrq)</th>\n",
       "      <td>18.14</td>\n",
       "    </tr>\n",
       "    <tr>\n",
       "      <th>Operating cash flow (ttm)</th>\n",
       "      <td>75.37B</td>\n",
       "    </tr>\n",
       "    <tr>\n",
       "      <th>Levered free cash flow (ttm)</th>\n",
       "      <td>45.04B</td>\n",
       "    </tr>\n",
       "  </tbody>\n",
       "</table>\n",
       "</div>"
      ],
      "text/plain": [
       "                                                      AAPL\n",
       "Stat                                                      \n",
       "Market cap (intra-day) 5                             1.66T\n",
       "Enterprise value 3                                   1.68T\n",
       "Trailing P/E                                         30.07\n",
       "Forward P/E 1                                        25.77\n",
       "PEG Ratio (5 yr expected) 1                           2.70\n",
       "Price/sales (ttm)                                     6.19\n",
       "Price/book (mrq)                                     21.10\n",
       "Enterprise value/revenue 3                            6.28\n",
       "Enterprise value/EBITDA 6                            21.78\n",
       "Beta (5Y monthly)                                     1.18\n",
       "52-week change 3                                    88.40%\n",
       "S&P500 52-week change 3                              4.59%\n",
       "52-week high 3                                      385.27\n",
       "52-week low 3                                       192.58\n",
       "50-day moving average 3                             345.70\n",
       "200-day moving average 3                            304.66\n",
       "Avg vol (3-month) 3                                  35.5M\n",
       "Avg vol (10-day) 3                                  29.95M\n",
       "Shares outstanding 5                                 4.33B\n",
       "Float                                                4.33B\n",
       "% held by insiders 1                                 0.07%\n",
       "% held by institutions 1                            62.12%\n",
       "Shares short (14 Jun 2020) 4                        34.83M\n",
       "Short ratio (14 Jun 2020) 4                           1.09\n",
       "Short % of float (14 Jun 2020) 4                     0.80%\n",
       "Short % of shares outstanding (14 Jun 2020) 4        0.80%\n",
       "Shares short (prior month 14 May 2020) 4            33.59M\n",
       "Forward annual dividend rate 4                        3.28\n",
       "Forward annual dividend yield 4                      0.86%\n",
       "Trailing annual dividend rate 3                       3.08\n",
       "Trailing annual dividend yield 3                     0.81%\n",
       "5-year average dividend yield 4                       1.57\n",
       "Payout ratio 4                                      24.08%\n",
       "Dividend date 3                                13 May 2020\n",
       "Ex-dividend date 4                             07 May 2020\n",
       "Last split factor 2                                    7:1\n",
       "Last split date 3                              08 Jun 2014\n",
       "Fiscal year ends                               27 Sep 2019\n",
       "Most-recent quarter (mrq)                      27 Mar 2020\n",
       "Profit margin                                       21.35%\n",
       "Operating margin (ttm)                              24.48%\n",
       "Return on assets (ttm)                              12.38%\n",
       "Return on equity (ttm)                              62.09%\n",
       "Revenue (ttm)                                      267.98B\n",
       "Revenue per share (ttm)                              60.10\n",
       "Quarterly revenue growth (yoy)                       0.50%\n",
       "Gross profit (ttm)                                  98.39B\n",
       "EBITDA                                              77.31B\n",
       "Net income avi to common (ttm)                      57.22B\n",
       "Diluted EPS (ttm)                                    12.73\n",
       "Quarterly earnings growth (yoy)                     -2.70%\n",
       "Total cash (mrq)                                    94.05B\n",
       "Total cash per share (mrq)                            21.7\n",
       "Total debt (mrq)                                   118.76B\n",
       "Total debt/equity (mrq)                             151.43\n",
       "Current ratio (mrq)                                   1.50\n",
       "Book value per share (mrq)                           18.14\n",
       "Operating cash flow (ttm)                           75.37B\n",
       "Levered free cash flow (ttm)                        45.04B"
      ]
     },
     "execution_count": 49,
     "metadata": {},
     "output_type": "execute_result"
    }
   ],
   "source": [
    "stats_reports['AAPL']"
   ]
  },
  {
   "cell_type": "code",
   "execution_count": 50,
   "metadata": {},
   "outputs": [
    {
     "data": {
      "text/plain": [
       "1.18"
      ]
     },
     "execution_count": 50,
     "metadata": {},
     "output_type": "execute_result"
    }
   ],
   "source": [
    "b = pd.to_numeric(stats_reports['AAPL'].loc['Beta (5Y monthly)'][0])\n",
    "b"
   ]
  },
  {
   "cell_type": "markdown",
   "metadata": {},
   "source": [
    "## R_m"
   ]
  },
  {
   "cell_type": "markdown",
   "metadata": {},
   "source": [
    "## using avg. return of the s&p 500 - 10% (for most 10-year periods)"
   ]
  },
  {
   "cell_type": "code",
   "execution_count": 51,
   "metadata": {},
   "outputs": [
    {
     "data": {
      "text/plain": [
       "0.1168246"
      ]
     },
     "execution_count": 51,
     "metadata": {},
     "output_type": "execute_result"
    }
   ],
   "source": [
    "R_m = 0.1\n",
    "R_a = R_f + b * (R_m - R_f)\n",
    "R_a"
   ]
  },
  {
   "cell_type": "markdown",
   "metadata": {},
   "source": [
    "## Weights for WACC formula"
   ]
  },
  {
   "cell_type": "code",
   "execution_count": 52,
   "metadata": {},
   "outputs": [
    {
     "data": {
      "text/plain": [
       "1660000000.0"
      ]
     },
     "execution_count": 52,
     "metadata": {},
     "output_type": "execute_result"
    }
   ],
   "source": [
    "market_cap = stats_reports['AAPL'].loc['Market cap (intra-day) 5'][0]\n",
    "#market_cap = market_cap.replace('T', '')\n",
    "market_cap = pd.to_numeric(market_cap.replace('T', '')) * 1000000000\n",
    "\n",
    "market_cap"
   ]
  },
  {
   "cell_type": "code",
   "execution_count": 53,
   "metadata": {},
   "outputs": [],
   "source": [
    "total_debt_ly = total_debt.iloc[2, 0]"
   ]
  },
  {
   "cell_type": "code",
   "execution_count": 54,
   "metadata": {},
   "outputs": [
    {
     "data": {
      "text/plain": [
       "0.06111093200576682"
      ]
     },
     "execution_count": 54,
     "metadata": {},
     "output_type": "execute_result"
    }
   ],
   "source": [
    "w_d = total_debt_ly / (total_debt_ly + market_cap)\n",
    "w_e = 1 - w_d\n",
    "w_d"
   ]
  },
  {
   "cell_type": "code",
   "execution_count": 55,
   "metadata": {},
   "outputs": [
    {
     "data": {
      "text/plain": [
       "'wacc = 0.06 * 0.03'"
      ]
     },
     "execution_count": 55,
     "metadata": {},
     "output_type": "execute_result"
    }
   ],
   "source": [
    "'wacc = ' + str(round(w_d, 2)) + ' * ' + str(round(r_d, 2)) "
   ]
  },
  {
   "cell_type": "code",
   "execution_count": 56,
   "metadata": {},
   "outputs": [
    {
     "data": {
      "text/plain": [
       "0.11138543511336552"
      ]
     },
     "execution_count": 56,
     "metadata": {},
     "output_type": "execute_result"
    }
   ],
   "source": [
    "r_e = R_a\n",
    "\n",
    "wacc = w_d * r_d * (1 - income_tax_rate/100) + w_e * r_e\n",
    "wacc"
   ]
  },
  {
   "cell_type": "markdown",
   "metadata": {},
   "source": [
    "## WACC is the required rate of return"
   ]
  },
  {
   "cell_type": "markdown",
   "metadata": {},
   "source": [
    "## Oustanding shares"
   ]
  },
  {
   "cell_type": "code",
   "execution_count": 57,
   "metadata": {},
   "outputs": [
    {
     "data": {
      "text/plain": [
       "4330000.0"
      ]
     },
     "execution_count": 57,
     "metadata": {},
     "output_type": "execute_result"
    }
   ],
   "source": [
    "shares_outstanding = pd.to_numeric(stats_reports['AAPL'].loc['Shares outstanding 5'][0].replace('B', '')) * 1000000 \n",
    "# rmb to reduce by 3 zeros as all other financial numbers are in thousands\n",
    "\n",
    "shares_outstanding"
   ]
  },
  {
   "cell_type": "markdown",
   "metadata": {},
   "source": [
    "## Perpetual growth rate - assume 2.5%"
   ]
  },
  {
   "cell_type": "code",
   "execution_count": 58,
   "metadata": {},
   "outputs": [],
   "source": [
    "g = 0.025"
   ]
  },
  {
   "cell_type": "code",
   "execution_count": 59,
   "metadata": {},
   "outputs": [
    {
     "data": {
      "text/html": [
       "<div>\n",
       "<style scoped>\n",
       "    .dataframe tbody tr th:only-of-type {\n",
       "        vertical-align: middle;\n",
       "    }\n",
       "\n",
       "    .dataframe tbody tr th {\n",
       "        vertical-align: top;\n",
       "    }\n",
       "\n",
       "    .dataframe thead th {\n",
       "        text-align: right;\n",
       "    }\n",
       "</style>\n",
       "<table border=\"1\" class=\"dataframe\">\n",
       "  <thead>\n",
       "    <tr style=\"text-align: right;\">\n",
       "      <th></th>\n",
       "      <th>30/09/2016</th>\n",
       "      <th>30/09/2017</th>\n",
       "      <th>30/09/2018</th>\n",
       "      <th>30/09/2019</th>\n",
       "      <th>Current year (2020)</th>\n",
       "      <th>Next year (2021)</th>\n",
       "      <th>2022E</th>\n",
       "      <th>2023E</th>\n",
       "      <th>Terminal Value</th>\n",
       "    </tr>\n",
       "    <tr>\n",
       "      <th>Breakdown</th>\n",
       "      <th></th>\n",
       "      <th></th>\n",
       "      <th></th>\n",
       "      <th></th>\n",
       "      <th></th>\n",
       "      <th></th>\n",
       "      <th></th>\n",
       "      <th></th>\n",
       "      <th></th>\n",
       "    </tr>\n",
       "  </thead>\n",
       "  <tbody>\n",
       "    <tr>\n",
       "      <th>Free Cash Flow</th>\n",
       "      <td>52,276,000.000</td>\n",
       "      <td>50,803,000.000</td>\n",
       "      <td>64,121,000.000</td>\n",
       "      <td>58,896,000.000</td>\n",
       "      <td>59,520,975.374</td>\n",
       "      <td>66,737,349.080</td>\n",
       "      <td>71,222,217.285</td>\n",
       "      <td>76,008,476.587</td>\n",
       "      <td>901,872,965.036</td>\n",
       "    </tr>\n",
       "  </tbody>\n",
       "</table>\n",
       "</div>"
      ],
      "text/plain": [
       "                   30/09/2016     30/09/2017     30/09/2018     30/09/2019  \\\n",
       "Breakdown                                                                    \n",
       "Free Cash Flow 52,276,000.000 50,803,000.000 64,121,000.000 58,896,000.000   \n",
       "\n",
       "                Current year (2020)  Next year (2021)          2022E  \\\n",
       "Breakdown                                                              \n",
       "Free Cash Flow       59,520,975.374    66,737,349.080 71,222,217.285   \n",
       "\n",
       "                        2023E  Terminal Value  \n",
       "Breakdown                                      \n",
       "Free Cash Flow 76,008,476.587 901,872,965.036  "
      ]
     },
     "execution_count": 59,
     "metadata": {},
     "output_type": "execute_result"
    }
   ],
   "source": [
    "fcf_2 = combined_fcf.loc[['Free Cash Flow']]\n",
    "fcf_2['Terminal Value'] = ( fcf_2.iloc[:, -1][0] * (1 + g) ) / (wacc - g)\n",
    "fcf_2"
   ]
  },
  {
   "cell_type": "markdown",
   "metadata": {},
   "source": [
    "## Discount factor"
   ]
  },
  {
   "cell_type": "code",
   "execution_count": 60,
   "metadata": {},
   "outputs": [
    {
     "data": {
      "text/html": [
       "<div>\n",
       "<style scoped>\n",
       "    .dataframe tbody tr th:only-of-type {\n",
       "        vertical-align: middle;\n",
       "    }\n",
       "\n",
       "    .dataframe tbody tr th {\n",
       "        vertical-align: top;\n",
       "    }\n",
       "\n",
       "    .dataframe thead th {\n",
       "        text-align: right;\n",
       "    }\n",
       "</style>\n",
       "<table border=\"1\" class=\"dataframe\">\n",
       "  <thead>\n",
       "    <tr style=\"text-align: right;\">\n",
       "      <th>Breakdown</th>\n",
       "      <th>Free Cash Flow</th>\n",
       "      <th>Discount Factor</th>\n",
       "    </tr>\n",
       "  </thead>\n",
       "  <tbody>\n",
       "    <tr>\n",
       "      <th>Current year (2020)</th>\n",
       "      <td>59,520,975.374</td>\n",
       "      <td>1.111</td>\n",
       "    </tr>\n",
       "    <tr>\n",
       "      <th>Next year (2021)</th>\n",
       "      <td>66,737,349.080</td>\n",
       "      <td>1.235</td>\n",
       "    </tr>\n",
       "    <tr>\n",
       "      <th>2022E</th>\n",
       "      <td>71,222,217.285</td>\n",
       "      <td>1.373</td>\n",
       "    </tr>\n",
       "    <tr>\n",
       "      <th>2023E</th>\n",
       "      <td>76,008,476.587</td>\n",
       "      <td>1.526</td>\n",
       "    </tr>\n",
       "    <tr>\n",
       "      <th>Terminal Value</th>\n",
       "      <td>901,872,965.036</td>\n",
       "      <td>1.526</td>\n",
       "    </tr>\n",
       "  </tbody>\n",
       "</table>\n",
       "</div>"
      ],
      "text/plain": [
       "Breakdown            Free Cash Flow  Discount Factor\n",
       "Current year (2020)  59,520,975.374            1.111\n",
       "Next year (2021)     66,737,349.080            1.235\n",
       "2022E                71,222,217.285            1.373\n",
       "2023E                76,008,476.587            1.526\n",
       "Terminal Value      901,872,965.036            1.526"
      ]
     },
     "execution_count": 60,
     "metadata": {},
     "output_type": "execute_result"
    }
   ],
   "source": [
    "fcf_3 = fcf_2.iloc[:, 4:]\n",
    "\n",
    "#fcf_3.iloc['Discount Factor'] = \n",
    "\n",
    "fcf_3 = fcf_3.T\n",
    "fcf_3['Discount Factor'] = (1 + wacc) ** (np.arange(len(fcf_3)) + 1)\n",
    "fcf_3.iloc[4, 1] = fcf_3.iloc[3, 1] # change terminval value dc factor to time period 4\n",
    "\n",
    "fcf_3"
   ]
  },
  {
   "cell_type": "markdown",
   "metadata": {},
   "source": [
    "# PV of future cash flows"
   ]
  },
  {
   "cell_type": "code",
   "execution_count": 61,
   "metadata": {},
   "outputs": [
    {
     "data": {
      "text/html": [
       "<div>\n",
       "<style scoped>\n",
       "    .dataframe tbody tr th:only-of-type {\n",
       "        vertical-align: middle;\n",
       "    }\n",
       "\n",
       "    .dataframe tbody tr th {\n",
       "        vertical-align: top;\n",
       "    }\n",
       "\n",
       "    .dataframe thead th {\n",
       "        text-align: right;\n",
       "    }\n",
       "</style>\n",
       "<table border=\"1\" class=\"dataframe\">\n",
       "  <thead>\n",
       "    <tr style=\"text-align: right;\">\n",
       "      <th></th>\n",
       "      <th>Current year (2020)</th>\n",
       "      <th>Next year (2021)</th>\n",
       "      <th>2022E</th>\n",
       "      <th>2023E</th>\n",
       "      <th>Terminal Value</th>\n",
       "    </tr>\n",
       "    <tr>\n",
       "      <th>Breakdown</th>\n",
       "      <th></th>\n",
       "      <th></th>\n",
       "      <th></th>\n",
       "      <th></th>\n",
       "      <th></th>\n",
       "    </tr>\n",
       "  </thead>\n",
       "  <tbody>\n",
       "    <tr>\n",
       "      <th>Free Cash Flow</th>\n",
       "      <td>59,520,975.374</td>\n",
       "      <td>66,737,349.080</td>\n",
       "      <td>71,222,217.285</td>\n",
       "      <td>76,008,476.587</td>\n",
       "      <td>901,872,965.036</td>\n",
       "    </tr>\n",
       "    <tr>\n",
       "      <th>Discount Factor</th>\n",
       "      <td>1.111</td>\n",
       "      <td>1.235</td>\n",
       "      <td>1.373</td>\n",
       "      <td>1.526</td>\n",
       "      <td>1.526</td>\n",
       "    </tr>\n",
       "    <tr>\n",
       "      <th>PV of Future CF</th>\n",
       "      <td>53,555,655.395</td>\n",
       "      <td>54,030,570.074</td>\n",
       "      <td>51,882,558.809</td>\n",
       "      <td>49,819,942.763</td>\n",
       "      <td>591,134,851.205</td>\n",
       "    </tr>\n",
       "  </tbody>\n",
       "</table>\n",
       "</div>"
      ],
      "text/plain": [
       "                 Current year (2020)  Next year (2021)          2022E  \\\n",
       "Breakdown                                                               \n",
       "Free Cash Flow        59,520,975.374    66,737,349.080 71,222,217.285   \n",
       "Discount Factor                1.111             1.235          1.373   \n",
       "PV of Future CF       53,555,655.395    54,030,570.074 51,882,558.809   \n",
       "\n",
       "                         2023E  Terminal Value  \n",
       "Breakdown                                       \n",
       "Free Cash Flow  76,008,476.587 901,872,965.036  \n",
       "Discount Factor          1.526           1.526  \n",
       "PV of Future CF 49,819,942.763 591,134,851.205  "
      ]
     },
     "execution_count": 61,
     "metadata": {},
     "output_type": "execute_result"
    }
   ],
   "source": [
    "fcf_3['PV of Future CF'] = fcf_3['Free Cash Flow'] / fcf_3['Discount Factor']\n",
    "\n",
    "fcf_3.T"
   ]
  },
  {
   "cell_type": "code",
   "execution_count": 62,
   "metadata": {},
   "outputs": [
    {
     "data": {
      "text/plain": [
       "184.85532984883764"
      ]
     },
     "execution_count": 62,
     "metadata": {},
     "output_type": "execute_result"
    }
   ],
   "source": [
    "total_value_today = fcf_3['PV of Future CF'].sum()\n",
    "\n",
    "value_today = total_value_today/shares_outstanding\n",
    "value_today"
   ]
  },
  {
   "cell_type": "markdown",
   "metadata": {},
   "source": [
    "# Move last column to first column"
   ]
  },
  {
   "cell_type": "raw",
   "metadata": {},
   "source": [
    "# move last col (symbol) to first col\n",
    "cols = list(pnl.columns)\n",
    "cols = cols[-1:] + cols[:-1]\n",
    "df = df[cols]"
   ]
  },
  {
   "cell_type": "markdown",
   "metadata": {},
   "source": [
    "# Reverse order of columns"
   ]
  },
  {
   "cell_type": "code",
   "execution_count": null,
   "metadata": {},
   "outputs": [],
   "source": [
    "# reverses order of columns\n",
    "total_revenue = total_revenue.iloc[:, ::-1] \n",
    "total_revenue"
   ]
  },
  {
   "cell_type": "markdown",
   "metadata": {},
   "source": [
    "# Multiple Reports for Multiple Stocks"
   ]
  },
  {
   "cell_type": "raw",
   "metadata": {},
   "source": [
    "reports = {}\n",
    "stats_reports = {}\n",
    "analysis_reports = {}\n",
    "\n",
    "for symbol in symbols:\n",
    "    # complex tables\n",
    "    pnl = scrape_table(yf_url.format(symbol, 'financials', symbol))\n",
    "    balance_sheet = scrape_table(yf_url.format(symbol, 'balance-sheet', symbol))\n",
    "    cash_flow = scrape_table(yf_url.format(symbol, 'cash-flow', symbol))\n",
    "       \n",
    "    reports[symbol + '_pnl'] = pnl\n",
    "    reports[symbol + '_balance_sheet'] = balance_sheet\n",
    "    reports[symbol + '_cash_flow'] = cash_flow\n",
    "    \n",
    "    # html tables \n",
    "    stats_list = scrape_html_tables(yf_url.format(symbol, 'key-statistics', symbol))\n",
    "    analysis_list =  scrape_html_tables(yf_url.format(symbol, 'analysis', symbol))\n",
    "    historical = scrape_html_tables(yf_url.format(symbol, 'history', symbol))[0]\n",
    "    \n",
    "    reports[symbol + '_historical'] = historical\n",
    "    \n",
    "    stats = pd.DataFrame()\n",
    "    analysis = pd.DataFrame()\n",
    "    \n",
    "    for i in stats_list:\n",
    "        stats = stats.append(i, ignore_index=True)\n",
    "     \n",
    "    stats.rename(columns={0: 'Stat', 1: symbol}, inplace=True)\n",
    "    stats.set_index('Stat', inplace=True)\n",
    "    \n",
    "    stats_reports[symbol] = stats\n",
    "    \n",
    "    analysis_reports[symbol + '_earnings_estimate'] = analysis_list[0]\n",
    "    analysis_reports[symbol + '_revenue_estimate'] = analysis_list[1]\n",
    "    analysis_reports[symbol + '_earnings_history'] = analysis_list[2]\n",
    "    analysis_reports[symbol + '_eps_trend'] = analysis_list[3]\n",
    "    analysis_reports[symbol + '_eps_revisions'] = analysis_list[4]\n",
    "    analysis_reports[symbol + '_growth_estimate'] = analysis_list[5]\n",
    "    \n",
    "    '''for i in analysis_list:\n",
    "        analysis = analysis.append(i, ignore_index=True)\n",
    "        \n",
    "    analysis_reports[symbol] = analysis'''\n",
    "    \n",
    "    # sleep\n",
    "    time.sleep(5)"
   ]
  },
  {
   "cell_type": "markdown",
   "metadata": {},
   "source": [
    "# Get stats comparison btw multiple companies"
   ]
  },
  {
   "cell_type": "raw",
   "metadata": {
    "scrolled": true
   },
   "source": [
    "compare_stats = pd.concat(stats_reports.values(), axis=1)"
   ]
  },
  {
   "cell_type": "raw",
   "metadata": {
    "scrolled": true
   },
   "source": [
    "compare_stats"
   ]
  },
  {
   "cell_type": "raw",
   "metadata": {
    "scrolled": false
   },
   "source": [
    "eps = pd.DataFrame(compare_stats.loc['Diluted EPS (ttm)'])"
   ]
  },
  {
   "cell_type": "raw",
   "metadata": {},
   "source": [
    "eps = eps.astype('float')"
   ]
  },
  {
   "cell_type": "raw",
   "metadata": {},
   "source": [
    "# Get growth estimates"
   ]
  },
  {
   "cell_type": "raw",
   "metadata": {
    "scrolled": true
   },
   "source": [
    "growth_estimates_dict = {}\n",
    "\n",
    "for symbol in symbols:\n",
    "\n",
    "    growth_estimates =  scrape_html_tables(yf_url.format(symbol, 'analysis', symbol))[5]\n",
    "    growth_estimates.set_index(growth_estimates.columns[0], inplace=True)\n",
    "    growth_estimates_dict[symbol] = growth_estimates[symbol]\n",
    "    \n",
    "    #sleep\n",
    "    time.sleep(5)"
   ]
  },
  {
   "cell_type": "raw",
   "metadata": {},
   "source": [
    "growth_estimates_df = pd.concat(growth_estimates_dict.values(), axis=1)"
   ]
  },
  {
   "cell_type": "raw",
   "metadata": {},
   "source": [
    "growth_rate = pd.DataFrame(growth_estimates_df.loc['Next 5 years (per annum)'])\n",
    "\n",
    "growth_rate['Next 5 years (per annum)'] = growth_rate['Next 5 years (per annum)'].str.strip('%').astype('float')\n",
    "\n",
    "growth_rate = growth_rate/100"
   ]
  },
  {
   "cell_type": "raw",
   "metadata": {},
   "source": [
    "df = pd.concat([eps, growth_rate], axis=1)\n",
    "df"
   ]
  },
  {
   "cell_type": "raw",
   "metadata": {},
   "source": [
    "# Get P/E Ratio"
   ]
  },
  {
   "cell_type": "raw",
   "metadata": {},
   "source": [
    "# can get from msn money; for now just use 2 * growth_rate\n",
    "\n",
    "df['P/E Ratio'] = 2 * df['Next 5 years (per annum)'] * 100\n",
    "df"
   ]
  },
  {
   "cell_type": "raw",
   "metadata": {},
   "source": [
    "# Calculate Value"
   ]
  },
  {
   "cell_type": "raw",
   "metadata": {},
   "source": [
    "min_rate_of_return = 0.15\n",
    "margin_of_safety = 0.5"
   ]
  },
  {
   "cell_type": "raw",
   "metadata": {
    "scrolled": true
   },
   "source": [
    "df['10-year EPS'] = round(df['Diluted EPS (ttm)'] * (1 + df['Next 5 years (per annum)']) ** 9, 2)"
   ]
  },
  {
   "cell_type": "raw",
   "metadata": {},
   "source": [
    "df['10-year share price?'] = round(df['10-year EPS'] * df['P/E Ratio'], 2)"
   ]
  },
  {
   "cell_type": "raw",
   "metadata": {},
   "source": [
    "df['current value'] = round(df['10-year share price?'] / (1 + min_rate_of_return) ** 9, 2)"
   ]
  },
  {
   "cell_type": "raw",
   "metadata": {
    "scrolled": true
   },
   "source": [
    "df"
   ]
  },
  {
   "cell_type": "markdown",
   "metadata": {},
   "source": [
    "# Alpha Vantage"
   ]
  },
  {
   "cell_type": "raw",
   "metadata": {},
   "source": [
    "function = 'TIME_SERIES_DAILY'\n",
    "interval = '15min'\n",
    "output_size = 'compact'\n",
    "API_key = 'UNZXVIOI4TVWK6XZ'\n",
    "\n",
    "url = 'https://www.alphavantage.co/query?function={}&symbol={}&interval={}&outputsize={}&apikey={}'\\\n",
    ".format(function, symbol, interval, output_size, API_key)\n",
    "\n",
    "data = requests.get(url).json()"
   ]
  },
  {
   "cell_type": "raw",
   "metadata": {},
   "source": [
    "data"
   ]
  },
  {
   "cell_type": "raw",
   "metadata": {},
   "source": [
    "data.keys()"
   ]
  },
  {
   "cell_type": "raw",
   "metadata": {},
   "source": [
    "data.get('Meta Data').get('2. Symbol')"
   ]
  },
  {
   "cell_type": "raw",
   "metadata": {},
   "source": [
    "time_series_data = data.get('Time Series (Daily)')\n",
    "time_series_data"
   ]
  },
  {
   "cell_type": "raw",
   "metadata": {},
   "source": [
    "close_df = pd.DataFrame.from_dict(time_series_data).iloc[3, :]\n",
    "close_df"
   ]
  },
  {
   "cell_type": "raw",
   "metadata": {
    "scrolled": true
   },
   "source": [
    "close_df = pd.DataFrame(close_df)\n",
    "close_df"
   ]
  },
  {
   "cell_type": "markdown",
   "metadata": {},
   "source": [
    "# New Implementation (All symbols in 1 df)"
   ]
  },
  {
   "cell_type": "raw",
   "metadata": {},
   "source": [
    "#reports = {}\n",
    "\n",
    "pnl = pd.DataFrame()\n",
    "balance_sheet = pd.DataFrame()\n",
    "cash_flow = pd.DataFrame()\n",
    "stats = pd.DataFrame()\n",
    "\n",
    "for symbol in symbols:\n",
    "    # complex tables\n",
    "    pnl_df = scrape_table(yf_url.format(symbol, 'financials', symbol))\n",
    "    pnl_df['Symbol'] = symbol\n",
    "    pnl = pnl.append(pnl_df, ignore_index=True)\n",
    "    \n",
    "    bs = scrape_table(yf_url.format(symbol, 'financials', symbol))\n",
    "    bs['Symbol'] = symbol\n",
    "    balance_sheet = balance_sheet.append(bs, ignore_index=True)\n",
    "    \n",
    "    cf = scrape_table(yf_url.format(symbol, 'financials', symbol))\n",
    "    cf['Symbol'] = symbol\n",
    "    cash_flow = cash_flow.append(cf, ignore_index=True)\n",
    "    \n",
    "    # html tables \n",
    "    stats_df = scrape_html_tables(yf_url.format(symbol, 'key-statistics', symbol))\n",
    "    \n",
    "    for i in stats_df:\n",
    "        i['Symbol'] = symbol\n",
    "        stats = stats.append(i, ignore_index=True)\n",
    "        \n",
    "    # sleep\n",
    "    time.sleep(5)"
   ]
  },
  {
   "cell_type": "code",
   "execution_count": null,
   "metadata": {},
   "outputs": [],
   "source": []
  }
 ],
 "metadata": {
  "kernelspec": {
   "display_name": "Python 3",
   "language": "python",
   "name": "python3"
  },
  "language_info": {
   "codemirror_mode": {
    "name": "ipython",
    "version": 3
   },
   "file_extension": ".py",
   "mimetype": "text/x-python",
   "name": "python",
   "nbconvert_exporter": "python",
   "pygments_lexer": "ipython3",
   "version": "3.7.6"
  }
 },
 "nbformat": 4,
 "nbformat_minor": 2
}
