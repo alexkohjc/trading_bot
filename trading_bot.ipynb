{
 "cells": [
  {
   "cell_type": "code",
   "execution_count": 2,
   "metadata": {},
   "outputs": [],
   "source": [
    "# import statements\n",
    "import datetime as dt\n",
    "import matplotlib.pyplot as plt\n",
    "from matplotlib import style\n",
    "import pandas as pd\n",
    "import pandas_datareader.data as web\n",
    "style.use('ggplot')"
   ]
  },
  {
   "cell_type": "code",
   "execution_count": 3,
   "metadata": {},
   "outputs": [],
   "source": [
    "start = dt.datetime(2010,1,1)\n",
    "end = dt.datetime(2020,12,31)\n",
    "# df = web.DataReader('TSLA', 'yahoo', start, end)\n",
    "df = web.DataReader('TSLA', 'av-daily', start, end, api_key='UNZXVIOI4TVWK6XZ')\n",
    "df.to_csv('tsla.csv')"
   ]
  },
  {
   "cell_type": "code",
   "execution_count": 4,
   "metadata": {},
   "outputs": [],
   "source": [
    "df = pd.read_csv('tsla.csv',parse_dates= True, index_col= 0)"
   ]
  },
  {
   "cell_type": "code",
   "execution_count": 5,
   "metadata": {},
   "outputs": [
    {
     "data": {
      "text/html": [
       "<div>\n",
       "<style scoped>\n",
       "    .dataframe tbody tr th:only-of-type {\n",
       "        vertical-align: middle;\n",
       "    }\n",
       "\n",
       "    .dataframe tbody tr th {\n",
       "        vertical-align: top;\n",
       "    }\n",
       "\n",
       "    .dataframe thead th {\n",
       "        text-align: right;\n",
       "    }\n",
       "</style>\n",
       "<table border=\"1\" class=\"dataframe\">\n",
       "  <thead>\n",
       "    <tr style=\"text-align: right;\">\n",
       "      <th></th>\n",
       "      <th>open</th>\n",
       "      <th>high</th>\n",
       "      <th>low</th>\n",
       "      <th>close</th>\n",
       "      <th>volume</th>\n",
       "    </tr>\n",
       "  </thead>\n",
       "  <tbody>\n",
       "    <tr>\n",
       "      <th>2020-12-24</th>\n",
       "      <td>642.99</td>\n",
       "      <td>666.09</td>\n",
       "      <td>641.0000</td>\n",
       "      <td>661.77</td>\n",
       "      <td>22865568</td>\n",
       "    </tr>\n",
       "    <tr>\n",
       "      <th>2020-12-28</th>\n",
       "      <td>674.51</td>\n",
       "      <td>681.40</td>\n",
       "      <td>660.8000</td>\n",
       "      <td>663.69</td>\n",
       "      <td>31553561</td>\n",
       "    </tr>\n",
       "    <tr>\n",
       "      <th>2020-12-29</th>\n",
       "      <td>661.00</td>\n",
       "      <td>669.90</td>\n",
       "      <td>655.0000</td>\n",
       "      <td>665.99</td>\n",
       "      <td>22910811</td>\n",
       "    </tr>\n",
       "    <tr>\n",
       "      <th>2020-12-30</th>\n",
       "      <td>672.00</td>\n",
       "      <td>696.60</td>\n",
       "      <td>668.3603</td>\n",
       "      <td>694.78</td>\n",
       "      <td>42846021</td>\n",
       "    </tr>\n",
       "    <tr>\n",
       "      <th>2020-12-31</th>\n",
       "      <td>699.99</td>\n",
       "      <td>718.72</td>\n",
       "      <td>691.1200</td>\n",
       "      <td>705.67</td>\n",
       "      <td>49649928</td>\n",
       "    </tr>\n",
       "  </tbody>\n",
       "</table>\n",
       "</div>"
      ],
      "text/plain": [
       "              open    high       low   close    volume\n",
       "2020-12-24  642.99  666.09  641.0000  661.77  22865568\n",
       "2020-12-28  674.51  681.40  660.8000  663.69  31553561\n",
       "2020-12-29  661.00  669.90  655.0000  665.99  22910811\n",
       "2020-12-30  672.00  696.60  668.3603  694.78  42846021\n",
       "2020-12-31  699.99  718.72  691.1200  705.67  49649928"
      ]
     },
     "execution_count": 5,
     "metadata": {},
     "output_type": "execute_result"
    }
   ],
   "source": [
    "df.tail()"
   ]
  },
  {
   "cell_type": "code",
   "execution_count": null,
   "metadata": {},
   "outputs": [],
   "source": []
  }
 ],
 "metadata": {
  "interpreter": {
   "hash": "1a5db59abe19c230969951fc4953c80ccb1ebdb096753dd160c9b1ae6cf866b9"
  },
  "kernelspec": {
   "display_name": "Python 3.8.5 64-bit ('base': conda)",
   "language": "python",
   "name": "python3"
  },
  "language_info": {
   "codemirror_mode": {
    "name": "ipython",
    "version": 3
   },
   "file_extension": ".py",
   "mimetype": "text/x-python",
   "name": "python",
   "nbconvert_exporter": "python",
   "pygments_lexer": "ipython3",
   "version": "3.7.9"
  },
  "orig_nbformat": 4
 },
 "nbformat": 4,
 "nbformat_minor": 2
}
